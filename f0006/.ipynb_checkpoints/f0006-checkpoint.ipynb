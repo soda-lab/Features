{
 "cells": [
  {
   "cell_type": "code",
   "execution_count": null,
   "metadata": {},
   "outputs": [],
   "source": [
    "import os\n",
    "import glob\n",
    "import pandas as pd\n",
    "import configparser \n",
    "\n",
    "config = configparser.ConfigParser()\n",
    "config.read('config.ini')\n",
    "input_folder = config['DEFAULT']['Input-Folder']\n",
    "out_folder = config['DEFAULT']['output-Folder']"
   ]
  },
  {
   "cell_type": "code",
   "execution_count": null,
   "metadata": {},
   "outputs": [],
   "source": [
    "# read all files form the folder\n",
    "print(\"reading files from the folder ...\")\n",
    "os.chdir(input_folder)\n",
    "\n",
    "# use glob to match the pattern ‘csv’\n",
    "extension = 'csv'\n",
    "all_filenames = [i for i in glob.glob('*.{}'.format(extension))]\n",
    "print(\"reading files is finished.\")"
   ]
  },
  {
   "cell_type": "code",
   "execution_count": null,
   "metadata": {},
   "outputs": [],
   "source": [
    "#combine all files in the list\n",
    "combined_df = pd.concat([pd.read_csv(f,low_memory=False) for f in all_filenames ])\n",
    "print(\"all csv files have been combined together.\")"
   ]
  },
  {
   "cell_type": "code",
   "execution_count": null,
   "metadata": {},
   "outputs": [],
   "source": [
    "# convert the data typr to string to avoid lossing data after group\n",
    "combined_df['hashtag'] = combined_df.hashtag.astype(str)\n",
    "combined_df['user_location'] = combined_df.user_location.astype(str)\n",
    "\n",
    "print(\"aggregating csv files...\")\n",
    "group_df = combined_df.groupby(['hashtag','user_location']).agg({'hashtag':'first','user_location':'first','count':\"sum\"})\n",
    "\n",
    "#export to csv\n",
    "file_name = out_folder + \"combined_csv.csv\"\n",
    "group_df.to_csv(file_name, sep=',',index = False, encoding='utf-8-sig')\n",
    "print(\"combined_csv.csv is finished\")"
   ]
  },
  {
   "cell_type": "code",
   "execution_count": null,
   "metadata": {},
   "outputs": [],
   "source": []
  }
 ],
 "metadata": {
  "kernelspec": {
   "display_name": "Python 3",
   "language": "python",
   "name": "python3"
  },
  "language_info": {
   "codemirror_mode": {
    "name": "ipython",
    "version": 3
   },
   "file_extension": ".py",
   "mimetype": "text/x-python",
   "name": "python",
   "nbconvert_exporter": "python",
   "pygments_lexer": "ipython3",
   "version": "3.6.4"
  }
 },
 "nbformat": 4,
 "nbformat_minor": 2
}
