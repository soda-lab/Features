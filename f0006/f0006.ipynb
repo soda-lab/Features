{
 "cells": [
  {
   "cell_type": "markdown",
   "metadata": {},
   "source": [
    "## Import Libraries"
   ]
  },
  {
   "cell_type": "code",
   "execution_count": 1,
   "metadata": {},
   "outputs": [],
   "source": [
    "import os\n",
    "import glob\n",
    "import pandas as pd\n",
    "import math"
   ]
  },
  {
   "cell_type": "markdown",
   "metadata": {},
   "source": [
    "## Read Config File"
   ]
  },
  {
   "cell_type": "code",
   "execution_count": 3,
   "metadata": {},
   "outputs": [],
   "source": [
    "import configparser\n",
    "\n",
    "config = configparser.ConfigParser()\n",
    "config.read('config.ini')\n",
    "input_folder = config['DEFAULT']['Input-Folder']\n",
    "out_folder = config['DEFAULT']['output-Folder']\n",
    "column_list = config['DEFAULT']['Column-List']\n",
    "column_type_list = config['DEFAULT']['Column-Type-List']\n",
    "\n",
    "column_list = column_list.split(',')\n",
    "column_type_list = column_type_list.split(',')"
   ]
  },
  {
   "cell_type": "markdown",
   "metadata": {},
   "source": [
    "## Supporting Functions"
   ]
  },
  {
   "cell_type": "code",
   "execution_count": null,
   "metadata": {},
   "outputs": [],
   "source": [
    "def read_csv_to_df(li,file):\n",
    "    df = pd.read_csv(file, index_col=None, header=0,encoding='UTF-8',lineterminator=\"\\n\")\n",
    "    li.append(df)\n",
    "    return li"
   ]
  },
  {
   "cell_type": "code",
   "execution_count": null,
   "metadata": {},
   "outputs": [],
   "source": [
    "# read all files form the folder\n",
    "def read_csv_from_folder(input_folder):\n",
    "    # use glob to match the pattern ‘csv’\n",
    "    print(\"reading files from the folder ...\")\n",
    "    extension = 'csv'\n",
    "    all_filenames = [i for i in glob.glob(input_folder + '*.{}'.format(extension))]\n",
    "    print(\"reading files is finished.\")\n",
    "    return all_filenames"
   ]
  },
  {
   "cell_type": "code",
   "execution_count": null,
   "metadata": {},
   "outputs": [],
   "source": [
    "# create folder if not exist\n",
    "def create_folder(folder):\n",
    "    if not os.path.exists(folder):\n",
    "        os.makedirs(folder)\n",
    "    return folder"
   ]
  },
  {
   "cell_type": "code",
   "execution_count": null,
   "metadata": {},
   "outputs": [],
   "source": [
    "def sparate_australia__and_other(all_filenames):\n",
    "    file_australia = []\n",
    "    file_other = []\n",
    "\n",
    "    for filename in all_filenames:\n",
    "        if \"Australia\" in filename:\n",
    "            file_australia.append(filename)\n",
    "        else:\n",
    "            file_other.append(filename)\n",
    "    return file_australia,file_other"
   ]
  },
  {
   "cell_type": "code",
   "execution_count": null,
   "metadata": {},
   "outputs": [],
   "source": [
    "def aggregate_csv(li):\n",
    "    combined_df = pd.concat(li,axis=0, ignore_index=True)\n",
    "    \n",
    "    # convert the data typr to string to avoid lossing data after group\n",
    "    for column in column_list:\n",
    "        combined_df[column] = combined_df.user_location.astype(str)\n",
    "    \n",
    "    print(\"aggregating csv files...\")\n",
    "    \n",
    "    # setup aggregation dictionary\n",
    "    agg_dic = {}\n",
    "    for column in column_list:\n",
    "        index = column_list.index(column)\n",
    "        if column_type_list[index] == \"string\":\n",
    "            agg_dic[column] = 'first'\n",
    "        elif column_type_list[index] in ['int','float']:\n",
    "            agg_dic[column] = 'sum'\n",
    "            \n",
    "    # group by\n",
    "    if len(column_list) == 1:\n",
    "        group_df = combined_df.groupby(column_list[0]).agg(agg_dic)\n",
    "    else:\n",
    "        group_df = combined_df.groupby(column_list).agg(agg_dic)\n",
    "        \n",
    "    return group_df"
   ]
  },
  {
   "cell_type": "code",
   "execution_count": null,
   "metadata": {},
   "outputs": [],
   "source": [
    "def rm_file(input_folder,out_folder,file_list,i):\n",
    "    for file in file_list[(0+2*i):(2+2*i)]: \n",
    "        os.remove(file) \n",
    "    print(\"original files are deleted\")"
   ]
  },
  {
   "cell_type": "code",
   "execution_count": null,
   "metadata": {},
   "outputs": [],
   "source": [
    "# export to csv\n",
    "def export_csv(out_folder,country, i,group_df) :  \n",
    "    file_name = out_folder + \"combined_user_location_\" + country + str(i) + \".csv\"\n",
    "    group_df.to_csv(file_name, sep=',',index = False, encoding='UTF-8')\n",
    "    print(\"combined_user_location_\" + country + str(i) + \".csv is finished\")"
   ]
  },
  {
   "cell_type": "code",
   "execution_count": null,
   "metadata": {},
   "outputs": [],
   "source": [
    "def main(input_folder,out_folder,file_list,country,i):\n",
    "    \n",
    "    li = []\n",
    "    for file in file_list[(0+2*i):(2+2*i)]:     \n",
    "        # read files\n",
    "        print(file)\n",
    "        li = read_csv_to_df(li,file)\n",
    "    \n",
    "    # aggregate csv\n",
    "    group_df = aggregate_csv(li)\n",
    "    # remove original files\n",
    "    rm_file(input_folder,out_folder,file_list,i)\n",
    "    # export csv\n",
    "    export_csv(out_folder,country,i,group_df)\n"
   ]
  },
  {
   "cell_type": "markdown",
   "metadata": {},
   "source": [
    "## Main Code"
   ]
  },
  {
   "cell_type": "code",
   "execution_count": null,
   "metadata": {},
   "outputs": [],
   "source": [
    "# get all files\n",
    "all_filenames = read_csv_from_folder(input_folder)\n",
    "file_australia,file_other = sparate_australia__and_other(all_filenames)\n",
    "\n",
    "# length\n",
    "l_australia = len(file_australia)\n",
    "l_other = len(file_other)\n",
    "\n",
    "# get max length\n",
    "max_length = max(l_australia, l_other)\n",
    "max_round = math.ceil(max_length/2)\n",
    "\n",
    "# create output folder if not exist\n",
    "create_folder(out_folder)"
   ]
  },
  {
   "cell_type": "code",
   "execution_count": null,
   "metadata": {},
   "outputs": [],
   "source": [
    "for r in range(0,max_round):\n",
    "    \n",
    "    print(\"Round: \" + str(r))\n",
    "    # read files\n",
    "    all_filenames = read_csv_from_folder(input_folder)\n",
    "    file_australia,file_other = sparate_australia__and_other(all_filenames)\n",
    "\n",
    "    # sort list\n",
    "    file_australia.sort()\n",
    "    file_other.sort()\n",
    "\n",
    "    # length\n",
    "    l_australia = len(file_australia)\n",
    "    l_other = len(file_other)\n",
    "\n",
    "    # round\n",
    "    r_australia = math.ceil(l_australia/2)\n",
    "    r_other = math.ceil(l_other/2)\n",
    "    \n",
    "    if l_australia > 1:\n",
    "        for i in range(0,r_australia):\n",
    "            print(\"---------------------\")\n",
    "            if r == 0:\n",
    "                main(input_folder,out_folder,file_australia,\"Australia\",i)\n",
    "            else:\n",
    "                main(out_folder,out_folder,file_australia,\"Australia\",i)\n",
    "            print(\"---------------------\")\n",
    "\n",
    "    if l_other > 1:\n",
    "        for i in range(0,r_other):\n",
    "            print(\"---------------------\")\n",
    "            if r == 0:\n",
    "                main(input_folder,out_folder,file_other,\"Other\",i)\n",
    "            else:\n",
    "                main(out_folder,out_folder,file_australia,\"Other\",i)\n",
    "            print(\"---------------------\")\n",
    "    "
   ]
  }
 ],
 "metadata": {
  "kernelspec": {
   "display_name": "Python 3",
   "language": "python",
   "name": "python3"
  },
  "language_info": {
   "codemirror_mode": {
    "name": "ipython",
    "version": 3
   },
   "file_extension": ".py",
   "mimetype": "text/x-python",
   "name": "python",
   "nbconvert_exporter": "python",
   "pygments_lexer": "ipython3",
   "version": "3.6.4"
  }
 },
 "nbformat": 4,
 "nbformat_minor": 2
}
