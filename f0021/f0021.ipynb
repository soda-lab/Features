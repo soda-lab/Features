{
 "cells": [
  {
   "cell_type": "markdown",
   "metadata": {},
   "source": [
    "## Import Libraries"
   ]
  },
  {
   "cell_type": "code",
   "execution_count": null,
   "metadata": {},
   "outputs": [],
   "source": [
    "import glob\n",
    "import pandas as pd\n",
    "import json\n",
    "import warnings\n",
    "warnings.filterwarnings(\"ignore\", category=DeprecationWarning)"
   ]
  },
  {
   "cell_type": "markdown",
   "metadata": {},
   "source": [
    "## Read Config File"
   ]
  },
  {
   "cell_type": "code",
   "execution_count": null,
   "metadata": {},
   "outputs": [],
   "source": [
    "import configparser\n",
    "config = configparser.ConfigParser()\n",
    "config.read('config.ini')\n",
    "input_folder = config['DEFAULT']['Input-Folder']\n",
    "input_file = config['DEFAULT']['Input-File']\n",
    "output_file = config['DEFAULT']['Output-File']"
   ]
  },
  {
   "cell_type": "markdown",
   "metadata": {},
   "source": [
    "## Get Files"
   ]
  },
  {
   "cell_type": "code",
   "execution_count": null,
   "metadata": {},
   "outputs": [],
   "source": [
    "extension = 'json'\n",
    "result = glob.glob('*.{}'.format(extension))"
   ]
  },
  {
   "cell_type": "markdown",
   "metadata": {},
   "source": [
    "## Write Updated Report"
   ]
  },
  {
   "cell_type": "code",
   "execution_count": null,
   "metadata": {},
   "outputs": [],
   "source": [
    "df = pd.read_csv(input_file, header=0, encoding=\"UTF-8\")\n",
    "\n",
    "for file in sorted(result):\n",
    "    with open(file, 'r') as f:\n",
    "        dic = json.load(f)\n",
    "        record_count = dic[\"record_count\"]\n",
    "        en_tweets_count = dic[\"en_tweets_count\"]\n",
    "        geoname_count = dic[\"geoname_count\"]\n",
    "        collection = dic[\"Indexes\"][0][\"_id_\"][\"ns\"].split(\".\")[1]\n",
    "        collection_country = collection.split(\"_Twitter\")[1][1:]\n",
    "        year = collection[:4]\n",
    "        week = collection.split(\"_Twitter\")[0].split(\"_W\")[1]\n",
    "        if len(week) == 1:\n",
    "            y_week = \"0\"+week\n",
    "        year_week = year + \"_W\" + y_week\n",
    "        row = {\"record_count\" : record_count, \"en_tweets_count\" : en_tweets_count, \"geoname_count\" : geoname_count, \\\n",
    "              \"year\" : year, \"week\" : week, 'year-week' : year_week, \"collection_country\" : collection_country}\n",
    "        df = df.append(row, ignore_index=True)\n",
    "\n",
    "df.to_csv(output_file, sep=',',index = False, encoding='UTF-8')"
   ]
  }
 ],
 "metadata": {
  "kernelspec": {
   "display_name": "Python 3",
   "language": "python",
   "name": "python3"
  },
  "language_info": {
   "codemirror_mode": {
    "name": "ipython",
    "version": 3
   },
   "file_extension": ".py",
   "mimetype": "text/x-python",
   "name": "python",
   "nbconvert_exporter": "python",
   "pygments_lexer": "ipython3",
   "version": "3.6.4"
  }
 },
 "nbformat": 4,
 "nbformat_minor": 2
}
