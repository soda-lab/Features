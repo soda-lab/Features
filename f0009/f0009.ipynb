{
 "cells": [
  {
   "cell_type": "markdown",
   "metadata": {},
   "source": [
    "## Import Libraries"
   ]
  },
  {
   "cell_type": "code",
   "execution_count": 1,
   "metadata": {},
   "outputs": [],
   "source": [
    "import json\n",
    "from glob import glob\n",
    "import os\n",
    "import sys\n",
    "config_file = sys.argv[1]"
   ]
  },
  {
   "cell_type": "markdown",
   "metadata": {},
   "source": [
    "## Read Config File"
   ]
  },
  {
   "cell_type": "code",
   "execution_count": 2,
   "metadata": {},
   "outputs": [],
   "source": [
    "import configparser \n",
    "\n",
    "config = configparser.ConfigParser()\n",
    "config.read(config_file)\n",
    "ip = config['DEFAULT']['IP']\n",
    "port = config['DEFAULT']['MongoDB-Port']\n",
    "folder_path = config['DEFAULT']['Folder-Path']\n",
    "db_name = config['DEFAULT']['DB-Name']\n",
    "contain_string = config['DEFAULT']['Contain-String']\n",
    "json_key = config['DEFAULT']['JSON-Key']\n",
    "user_name = config['DEFAULT']['User-Name']\n",
    "psword = config['DEFAULT']['Psword']"
   ]
  },
  {
   "cell_type": "markdown",
   "metadata": {},
   "source": [
    "## Connect MongoDB"
   ]
  },
  {
   "cell_type": "code",
   "execution_count": 3,
   "metadata": {},
   "outputs": [],
   "source": [
    "from pymongo import MongoClient\n",
    "client = MongoClient(ip, int(port), username=user_name, password=psword)"
   ]
  },
  {
   "cell_type": "markdown",
   "metadata": {},
   "source": [
    "## Insert Json into MongoDB"
   ]
  },
  {
   "cell_type": "code",
   "execution_count": 4,
   "metadata": {},
   "outputs": [
    {
     "name": "stdout",
     "output_type": "stream",
     "text": [
      "SportClubs.json is finished.\n"
     ]
    }
   ],
   "source": [
    "db = client[db_name]\n",
    "\n",
    "paths = glob(folder_path + \"/*{}*.json\".format(contain_string))\n",
    "for path in paths:\n",
    "    file = os.path.basename(path)\n",
    "    file_name = os.path.splitext(file)[0]\n",
    "\n",
    "    with open(path) as f:\n",
    "        file_data = json.load(f)\n",
    "    if json_key == \"none\":\n",
    "        db[file_name].insert_many(file_data)\n",
    "    else:\n",
    "        db[file_name].insert_many(file_data[json_key])\n",
    "    print(file + \" is finished.\")"
   ]
  },
  {
   "cell_type": "code",
   "execution_count": null,
   "metadata": {},
   "outputs": [],
   "source": []
  }
 ],
 "metadata": {
  "kernelspec": {
   "display_name": "Python 3",
   "language": "python",
   "name": "python3"
  },
  "language_info": {
   "codemirror_mode": {
    "name": "ipython",
    "version": 3
   },
   "file_extension": ".py",
   "mimetype": "text/x-python",
   "name": "python",
   "nbconvert_exporter": "python",
   "pygments_lexer": "ipython3",
   "version": "3.6.4"
  }
 },
 "nbformat": 4,
 "nbformat_minor": 2
}
