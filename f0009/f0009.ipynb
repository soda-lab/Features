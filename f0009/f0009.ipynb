{
 "cells": [
  {
   "cell_type": "code",
   "execution_count": 1,
   "metadata": {},
   "outputs": [],
   "source": [
    "import json\n",
    "from glob import glob\n",
    "import os\n",
    "import configparser \n",
    "\n",
    "config = configparser.ConfigParser()\n",
    "config.read('config.ini')\n",
    "ip = config['DEFAULT']['IP']\n",
    "port = config['DEFAULT']['MongoDB-Port']\n",
    "folder_path = config['DEFAULT']['Folder-Path']\n",
    "\n",
    "from pymongo import MongoClient\n",
    "client = MongoClient(ip, int(port))"
   ]
  },
  {
   "cell_type": "code",
   "execution_count": 2,
   "metadata": {},
   "outputs": [
    {
     "name": "stdout",
     "output_type": "stream",
     "text": [
      "20160325.json\n",
      "20160325.json is finished.\n",
      "20160401.json\n",
      "20160401.json is finished.\n"
     ]
    }
   ],
   "source": [
    "db = client['DPC']\n",
    "\n",
    "paths = glob(folder_path + \"/*\")\n",
    "for path in paths:\n",
    "    year = os.path.basename(path)\n",
    "    files = glob(path + \"/*\")\n",
    "    for file in files:\n",
    "        f_name = os.path.basename(file)\n",
    "        if \"count\" not in f_name.lower():\n",
    "            with open(file) as f:\n",
    "                file_data = json.load(f)\n",
    "                collection_name = \"Twitter_\" + year\n",
    "                if 'results' in file_data:\n",
    "                    if file_data[\"results\"]:\n",
    "                        db[collection_name].insert_many(file_data[\"results\"])\n",
    "                print(f_name + \" is finished.\")\n"
   ]
  },
  {
   "cell_type": "code",
   "execution_count": null,
   "metadata": {},
   "outputs": [],
   "source": []
  }
 ],
 "metadata": {
  "kernelspec": {
   "display_name": "Python 3",
   "language": "python",
   "name": "python3"
  },
  "language_info": {
   "codemirror_mode": {
    "name": "ipython",
    "version": 3
   },
   "file_extension": ".py",
   "mimetype": "text/x-python",
   "name": "python",
   "nbconvert_exporter": "python",
   "pygments_lexer": "ipython3",
   "version": "3.6.4"
  }
 },
 "nbformat": 4,
 "nbformat_minor": 2
}
