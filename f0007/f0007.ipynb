{
 "cells": [
  {
   "cell_type": "code",
   "execution_count": 1,
   "metadata": {},
   "outputs": [],
   "source": [
    "import glob\n",
    "import os\n",
    "import time\n",
    "import pandas as pd\n",
    "import configparser \n",
    "\n",
    "config = configparser.ConfigParser()\n",
    "config.read('config.ini')\n",
    "input_folder = config['DEFAULT']['Input-Folder']\n",
    "out_folder = config['DEFAULT']['output-Folder']\n",
    "aus_file_path = config['DEFAULT']['Aus-File-Path']\n",
    "world_file_path = config['DEFAULT']['World-File-Path']"
   ]
  },
  {
   "cell_type": "code",
   "execution_count": 2,
   "metadata": {},
   "outputs": [],
   "source": [
    "# read all files form the folder\n",
    "def read_csv_from_folder(input_folder):\n",
    "    # use glob to match the pattern ‘csv’\n",
    "    print(\"reading files from the folder ...\")\n",
    "    extension = 'csv'\n",
    "    all_filenames = [i for i in glob.glob(input_folder + '*.{}'.format(extension))]\n",
    "    print(\"reading files is finished.\")\n",
    "    return all_filenames"
   ]
  },
  {
   "cell_type": "code",
   "execution_count": 3,
   "metadata": {},
   "outputs": [],
   "source": [
    "# get list from csv file\n",
    "def get_list_from_csv(data):\n",
    "    ci = data.city.tolist()\n",
    "    city = ci[0:]\n",
    "    st = data.state.tolist()\n",
    "    state = st[0:]\n",
    "    co = data.country.tolist()\n",
    "    country = co[0:]\n",
    "    return city,state,country"
   ]
  },
  {
   "cell_type": "code",
   "execution_count": 4,
   "metadata": {},
   "outputs": [],
   "source": [
    "# create foler if not exist\n",
    "def create_folder(folder):\n",
    "    if not os.path.exists(folder):\n",
    "        os.makedirs(folder)"
   ]
  },
  {
   "cell_type": "code",
   "execution_count": 5,
   "metadata": {},
   "outputs": [],
   "source": [
    "# add value to new column if meet certain condition\n",
    "def add_column_value(s_geo,i,df,index,city,state,country):\n",
    "    if s_geo == \"city\":\n",
    "        df.at[i,'city'] = str(city[index])\n",
    "    if s_geo == \"city\" or s_geo == \"state\":\n",
    "        df.at[i,'state'] = str(state[index])    \n",
    "    df.at[i,'country'] = str(country[index])\n",
    "    return df"
   ]
  },
  {
   "cell_type": "code",
   "execution_count": 6,
   "metadata": {},
   "outputs": [],
   "source": [
    "def update_location(geo,s_geo,row,i,df,exist,city,state,country,start_time,t):\n",
    "    for x in geo:\n",
    "        if isinstance(x,str):\n",
    "            if s_geo == \"city\":\n",
    "                loc = row['user_location'].lower().replace(\"australia\",\"\")\n",
    "            else:\n",
    "                loc = row['user_location'].lower()\n",
    "            if x.lower() in loc:\n",
    "                index = geo.index(x)\n",
    "                df = add_column_value(s_geo,i,df,index,city,state,country)\n",
    "                exist = 1\n",
    "                \n",
    "                # print every hour if it's still running\n",
    "                t = calculate_time(start_time, t)\n",
    "                break\n",
    "    return df,exist,t"
   ]
  },
  {
   "cell_type": "code",
   "execution_count": 7,
   "metadata": {},
   "outputs": [],
   "source": [
    "# export to csv\n",
    "def export_csv(file_name,df,out_folder) : \n",
    "    print(\"exporting csv file...\")\n",
    "    if \"australia\" in file_name.lower():\n",
    "        df[['state']] = df[['state']].replace(['Victoria'], [\"VIC\"])     \n",
    "    df.to_csv(out_folder + file_name, sep=',',index = False, encoding='utf-8-sig')\n",
    "    print(file_name + \" is finished\")"
   ]
  },
  {
   "cell_type": "code",
   "execution_count": 8,
   "metadata": {},
   "outputs": [],
   "source": [
    "# calculate running time\n",
    "def calculate_time(start_time, t):\n",
    "    current_time = time.time()\n",
    "    duration = current_time - start_time\n",
    "    if (duration/60) >= (t+10):\n",
    "        t += 10\n",
    "        print(\"The program is still running, already run for about \"+ str(t) + \" minutes.\")\n",
    "    return t"
   ]
  },
  {
   "cell_type": "code",
   "execution_count": 9,
   "metadata": {},
   "outputs": [],
   "source": [
    "def main(df,city,state,country,start_time,t):\n",
    "    for i, row in df.iterrows():\n",
    "        exist = 0\n",
    "        s_geo = \"city\"\n",
    "        df,exist,t = update_location(city,s_geo,row,i,df,exist,city,state,country,start_time,t)\n",
    "        if exist == 0:\n",
    "            s_geo = \"state\"\n",
    "            df,exist,t = update_location(state,s_geo,row,i,df,exist,city,state,country,start_time,t)\n",
    "        if exist == 0:\n",
    "            s_geo = \"country\"\n",
    "            df,exist,t = update_location(country,s_geo,row,i,df,exist,city,state,country,start_time,t)\n",
    "    print(\"New csv file is finished.\")\n",
    "    return df"
   ]
  },
  {
   "cell_type": "code",
   "execution_count": 10,
   "metadata": {},
   "outputs": [
    {
     "name": "stdout",
     "output_type": "stream",
     "text": [
      "reading files from the folder ...\n",
      "reading files is finished.\n",
      "--------------------\n",
      "processing file: combined_csv_Other0.csv\n",
      "New csv file is finished.\n",
      "exporting csv file...\n",
      "combined_csv_Other0.csv is finished\n",
      "--------------------\n"
     ]
    }
   ],
   "source": [
    "all_filenames = read_csv_from_folder(input_folder)\n",
    "create_folder(out_folder)\n",
    "for file in all_filenames:\n",
    "    \n",
    "    print(\"--------------------\")\n",
    "    file_name = os.path.basename(file)\n",
    "    print(\"processing file: \" + file_name)\n",
    "    \n",
    "    start_time = time.time()\n",
    "    t = 0\n",
    "\n",
    "    # read city, state, country from csv file\n",
    "    if \"australia\" in file_name.lower():\n",
    "        geo_data = pd.read_csv(aus_file_path, encoding=\"ISO-8859-1\")\n",
    "    else:\n",
    "        geo_data = pd.read_csv(world_file_path, encoding=\"ISO-8859-1\")\n",
    "\n",
    "    city, state, country = get_list_from_csv(geo_data)\n",
    "\n",
    "    df = pd.read_csv(file, encoding=\"ISO-8859-1\")\n",
    "\n",
    "    df = main(df,city,state,country,start_time,t)\n",
    "\n",
    "    export_csv(file_name,df,out_folder)\n",
    "    print(\"--------------------\")"
   ]
  },
  {
   "cell_type": "code",
   "execution_count": null,
   "metadata": {},
   "outputs": [],
   "source": []
  }
 ],
 "metadata": {
  "kernelspec": {
   "display_name": "Python 3",
   "language": "python",
   "name": "python3"
  },
  "language_info": {
   "codemirror_mode": {
    "name": "ipython",
    "version": 3
   },
   "file_extension": ".py",
   "mimetype": "text/x-python",
   "name": "python",
   "nbconvert_exporter": "python",
   "pygments_lexer": "ipython3",
   "version": "3.6.4"
  }
 },
 "nbformat": 4,
 "nbformat_minor": 2
}
