{
 "cells": [
  {
   "cell_type": "markdown",
   "metadata": {},
   "source": [
    "# Search Query In Twitter Collection\n",
    "-------"
   ]
  },
  {
   "cell_type": "markdown",
   "metadata": {},
   "source": [
    "# Import Libraries"
   ]
  },
  {
   "cell_type": "code",
   "execution_count": 1,
   "metadata": {},
   "outputs": [],
   "source": [
    "from pymongo import MongoClient\n",
    "import pymongo\n",
    "import json\n",
    "from bson import json_util\n",
    "import csv\n",
    "import os\n",
    "import logging\n",
    "import time\n",
    "import pandas as pd\n",
    "import warnings\n",
    "warnings.filterwarnings(\"ignore\", category=DeprecationWarning)"
   ]
  },
  {
   "cell_type": "markdown",
   "metadata": {},
   "source": [
    "# Read Config File"
   ]
  },
  {
   "cell_type": "code",
   "execution_count": 2,
   "metadata": {},
   "outputs": [],
   "source": [
    "import configparser \n",
    "config = configparser.ConfigParser()\n",
    "config.read('config.ini')\n",
    "ip = config['DEFAULT']['IP']\n",
    "port = config['DEFAULT']['MongoDB-Port']\n",
    "db_name = config['DEFAULT']['DB-Name']\n",
    "user_name = config['DEFAULT']['User-Name']\n",
    "psword = config['DEFAULT']['Psword']\n",
    "debug = config['DEFAULT']['Debug']\n",
    "query_input = config['DEFAULT']['Query-Input']"
   ]
  },
  {
   "cell_type": "markdown",
   "metadata": {},
   "source": [
    "# Setup Log File"
   ]
  },
  {
   "cell_type": "code",
   "execution_count": 3,
   "metadata": {},
   "outputs": [],
   "source": [
    "logging.basicConfig(filename='debug.log',level=logging.DEBUG, format='%(asctime)s | %(levelname)s | %(message)s')"
   ]
  },
  {
   "cell_type": "markdown",
   "metadata": {},
   "source": [
    "# Read Query List"
   ]
  },
  {
   "cell_type": "code",
   "execution_count": 4,
   "metadata": {},
   "outputs": [],
   "source": [
    "query_pd = pd.read_csv(query_input, header = None, encoding= \"UTF-8\")\n",
    "query_list = query_pd[0].tolist()"
   ]
  },
  {
   "cell_type": "markdown",
   "metadata": {},
   "source": [
    "# Connect MongoDB"
   ]
  },
  {
   "cell_type": "code",
   "execution_count": 5,
   "metadata": {},
   "outputs": [],
   "source": [
    "client = MongoClient(ip, int(port), username=user_name, password=psword)"
   ]
  },
  {
   "cell_type": "markdown",
   "metadata": {},
   "source": [
    "# Get Collection Names"
   ]
  },
  {
   "cell_type": "code",
   "execution_count": 6,
   "metadata": {},
   "outputs": [],
   "source": [
    "db_twitter = client[db_name]\n",
    "collections_twitter = db_twitter.collection_names()"
   ]
  },
  {
   "cell_type": "markdown",
   "metadata": {},
   "source": [
    "# Supporting Functions"
   ]
  },
  {
   "cell_type": "code",
   "execution_count": 7,
   "metadata": {},
   "outputs": [],
   "source": [
    "# create folder if not exist\n",
    "def create_folder(folder):\n",
    "    if not os.path.exists(folder):\n",
    "        os.makedirs(folder)\n",
    "    return folder"
   ]
  },
  {
   "cell_type": "code",
   "execution_count": 8,
   "metadata": {},
   "outputs": [],
   "source": [
    "# export to csv\n",
    "def write_csv(output_file,row_list,func):\n",
    "    with open(output_file, func) as f:\n",
    "            writer = csv.writer(f, quoting=csv.QUOTE_MINIMAL)\n",
    "            writer.writerow(row_list)"
   ]
  },
  {
   "cell_type": "markdown",
   "metadata": {},
   "source": [
    "# Create Result Folders"
   ]
  },
  {
   "cell_type": "code",
   "execution_count": 10,
   "metadata": {},
   "outputs": [
    {
     "data": {
      "text/plain": [
       "'json_result/'"
      ]
     },
     "execution_count": 10,
     "metadata": {},
     "output_type": "execute_result"
    }
   ],
   "source": [
    "create_folder(\"csv_result/\")\n",
    "create_folder(\"json_result/\")"
   ]
  },
  {
   "cell_type": "markdown",
   "metadata": {},
   "source": [
    "# Write Into CSV &JSON"
   ]
  },
  {
   "cell_type": "code",
   "execution_count": 11,
   "metadata": {},
   "outputs": [],
   "source": [
    "start= time.time()\n",
    "for c in sorted(collections_twitter):\n",
    "    create_folder(\"json_result/{}/\".format(c))\n",
    "    \n",
    "    for q in query_list:\n",
    "        if debug:\n",
    "            logging.info(\"---------------------------------------\")\n",
    "            logging.info(\"Finding query '{}' in collection {}...\".format(q,c))\n",
    "\n",
    "        count = 0\n",
    "        create_folder(\"json_result/{}/{}\".format(c,q))\n",
    "        write_csv(\"csv_result/{}_{}.csv\".format(c,q),[\"tweet_id\",\"created_at\",\"text\",\"user_screen_name\",\"user_location\"],\"w\")\n",
    "        \n",
    "        cursor = db_twitter[c].find({\"$text\":{\"$search\": q}})\n",
    "        \n",
    "        text = created_at = screen_name = location = \"\"\n",
    "        for data in cursor:\n",
    "            # export selected fields to csv\n",
    "            tweet_id = data[\"id_str\"]\n",
    "            text = data[\"text\"]\n",
    "            if \"created_at\" in data:\n",
    "                created_at = data[\"created_at\"]\n",
    "            if \"user\" in data:\n",
    "                if \"screen_name\" in data[\"user\"]:\n",
    "                    screen_name = data[\"user\"][\"screen_name\"]\n",
    "                if \"location\" in data[\"user\"]:\n",
    "                    location = data[\"user\"][\"location\"]\n",
    "            write_csv(\"csv_result/{}_{}.csv\".format(c,q),[tweet_id,created_at,text,screen_name,location],\"a+\")\n",
    "            \n",
    "            # export each record as json\n",
    "            with open('json_result/{}/{}/{}.json'.format(c,q,tweet_id.replace(\" \",\"_\")),'w') as f:\n",
    "                del data[\"_id\"]\n",
    "                json.dump(json.loads(json_util.dumps(data)), f)\n",
    "\n",
    "            count += 1\n",
    "        if debug:\n",
    "            logging.info(\"The program has been running for \" + str(time.time()-start) + \" seconds\")\n",
    "            logging.info(\"Found {} records for query '{}'\".format(count,q))"
   ]
  },
  {
   "cell_type": "code",
   "execution_count": null,
   "metadata": {},
   "outputs": [],
   "source": []
  }
 ],
 "metadata": {
  "kernelspec": {
   "display_name": "Python 3",
   "language": "python",
   "name": "python3"
  },
  "language_info": {
   "codemirror_mode": {
    "name": "ipython",
    "version": 3
   },
   "file_extension": ".py",
   "mimetype": "text/x-python",
   "name": "python",
   "nbconvert_exporter": "python",
   "pygments_lexer": "ipython3",
   "version": "3.6.4"
  }
 },
 "nbformat": 4,
 "nbformat_minor": 2
}
