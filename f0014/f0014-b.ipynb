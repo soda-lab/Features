{
 "cells": [
  {
   "cell_type": "markdown",
   "metadata": {},
   "source": [
    "## Import Libraries"
   ]
  },
  {
   "cell_type": "code",
   "execution_count": 1,
   "metadata": {},
   "outputs": [],
   "source": [
    "import csv\n",
    "import re\n",
    "import warnings\n",
    "warnings.filterwarnings(\"ignore\", category=DeprecationWarning)"
   ]
  },
  {
   "cell_type": "markdown",
   "metadata": {},
   "source": [
    "## Read Config File"
   ]
  },
  {
   "cell_type": "code",
   "execution_count": null,
   "metadata": {},
   "outputs": [],
   "source": [
    "import configparser\n",
    "config = configparser.ConfigParser()\n",
    "config.read('config.ini')\n",
    "ip = config['DEFAULT']['IP']\n",
    "port = config['DEFAULT']['MongoDB-Port']\n",
    "db_name = config['DEFAULT']['DB-Name']"
   ]
  },
  {
   "cell_type": "markdown",
   "metadata": {},
   "source": [
    "## Connect MongoDB"
   ]
  },
  {
   "cell_type": "code",
   "execution_count": null,
   "metadata": {},
   "outputs": [],
   "source": [
    "from pymongo import MongoClient\n",
    "client = MongoClient(ip, int(port))"
   ]
  },
  {
   "cell_type": "code",
   "execution_count": 2,
   "metadata": {},
   "outputs": [],
   "source": [
    "db_twitter = client[db_name]\n",
    "collections_twitter = db_twitter.collection_names()"
   ]
  },
  {
   "cell_type": "markdown",
   "metadata": {},
   "source": [
    "## Collection : Number of records"
   ]
  },
  {
   "cell_type": "code",
   "execution_count": 3,
   "metadata": {},
   "outputs": [
    {
     "name": "stdout",
     "output_type": "stream",
     "text": [
      "Twitter_2017: 25,153\n",
      "Twitter_2018: 25,456\n",
      "Twitter_2019: 7,997\n"
     ]
    }
   ],
   "source": [
    "dic_collection = {}\n",
    "for i in collections_twitter:\n",
    "    dic_collection[i] = \"{:,}\".format(db_twitter[i].find({}).count())\n",
    "    \n",
    "for key in sorted(dic_collection):\n",
    "    print(\"%s: %s\" % (key, dic_collection[key]))"
   ]
  },
  {
   "cell_type": "markdown",
   "metadata": {},
   "source": [
    "## Pipeline"
   ]
  },
  {
   "cell_type": "code",
   "execution_count": 4,
   "metadata": {},
   "outputs": [],
   "source": [
    "pipeline = [\n",
    "    {\"$match\": { \"entities.hashtags\": {\"$exists\":True,\"$ne\":[]}}},\n",
    "    {\"$match\": { \"lang\" : \"en\"}},\n",
    "    { \"$group\": {\n",
    "        \"_id\": \"$entities.hashtags\",\n",
    "        \"count\": { \"$sum\": 1 },\n",
    "        }\n",
    "    }\n",
    "]"
   ]
  },
  {
   "cell_type": "markdown",
   "metadata": {},
   "source": [
    "## Supporting Functions"
   ]
  },
  {
   "cell_type": "code",
   "execution_count": 5,
   "metadata": {},
   "outputs": [],
   "source": [
    "def get_dic(dic_hashtag, data, h, i):\n",
    "    if len(dic_hashtag)>0:\n",
    "        if h in dic_hashtag:\n",
    "            dic_hashtag[h] += data[i][\"count\"]\n",
    "        else:\n",
    "            dic_hashtag[h] = data[i][\"count\"]\n",
    "    else:\n",
    "        dic_hashtag[h] = data[i][\"count\"]\n",
    "    return dic_hashtag"
   ]
  },
  {
   "cell_type": "code",
   "execution_count": 6,
   "metadata": {},
   "outputs": [],
   "source": [
    "def write_csv(output_file, top_100_htag):\n",
    "    csv_columns = ['hashtag','count']\n",
    "    with open(output_file, 'w') as f:\n",
    "        writer = csv.DictWriter(f, fieldnames=csv_columns)\n",
    "        writer.writeheader()\n",
    "        for key in top_100_htag.keys():\n",
    "            f.write(\"%s,%s\\n\"%(key,top_100_htag[key]))\n",
    "    print(output_file + \" is ready.\")"
   ]
  },
  {
   "cell_type": "markdown",
   "metadata": {},
   "source": [
    "## Get Top 100 Hashtags CSV File Per Collection"
   ]
  },
  {
   "cell_type": "code",
   "execution_count": 7,
   "metadata": {},
   "outputs": [
    {
     "name": "stdout",
     "output_type": "stream",
     "text": [
      "-------------------\n",
      "Processing on collection: Twitter_2017\n",
      "hashtag dictionary for collection Twitter_2017 is finished\n",
      "Twitter_2017.csv is ready.\n",
      "-------------------\n",
      "-------------------\n",
      "Processing on collection: Twitter_2018\n",
      "hashtag dictionary for collection Twitter_2018 is finished\n",
      "Twitter_2018.csv is ready.\n",
      "-------------------\n",
      "-------------------\n",
      "Processing on collection: Twitter_2019\n",
      "hashtag dictionary for collection Twitter_2019 is finished\n",
      "Twitter_2019.csv is ready.\n",
      "-------------------\n"
     ]
    }
   ],
   "source": [
    "for collection in sorted(dic_collection):\n",
    "    \n",
    "    print(\"-------------------\")\n",
    "    print(\"Processing on collection: \" + collection)\n",
    "    \n",
    "    # get hashtag list\n",
    "    dic_hashtag={}\n",
    "    data = list(db_twitter[collection].aggregate(pipeline,allowDiskUse=True))\n",
    "    if len(data) > 0 : \n",
    "        for i in range(len(data)):\n",
    "            for j in data[i][\"_id\"]:\n",
    "                h = j[\"text\"]\n",
    "                if(re.match(\"^[a-zA-Z0-9]*$\",h)):\n",
    "                    dic_hashtag = get_dic(dic_hashtag, data, h, i)\n",
    "    print(\"hashtag dictionary for collection \" + collection + \" is finished\")\n",
    "    \n",
    "    # get top 100 hashtags\n",
    "    top_100_htag = dict(sorted(dic_hashtag.items(), key=lambda x: x[1], reverse=True)[:100])\n",
    "    \n",
    "    # export to csv\n",
    "    output_file = collection + \".csv\"\n",
    "    write_csv(output_file, top_100_htag)\n",
    "    print(\"-------------------\")"
   ]
  }
 ],
 "metadata": {
  "kernelspec": {
   "display_name": "Python 3",
   "language": "python",
   "name": "python3"
  },
  "language_info": {
   "codemirror_mode": {
    "name": "ipython",
    "version": 3
   },
   "file_extension": ".py",
   "mimetype": "text/x-python",
   "name": "python",
   "nbconvert_exporter": "python",
   "pygments_lexer": "ipython3",
   "version": "3.6.4"
  }
 },
 "nbformat": 4,
 "nbformat_minor": 2
}
