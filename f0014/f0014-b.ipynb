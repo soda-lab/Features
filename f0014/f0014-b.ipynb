{
 "cells": [
  {
   "cell_type": "code",
   "execution_count": 1,
   "metadata": {},
   "outputs": [],
   "source": [
    "import glob\n",
    "import configparser\n",
    "import os\n",
    "import csv\n",
    "\n",
    "config = configparser.ConfigParser()\n",
    "config.read('config.ini')\n",
    "input_folder = config['DEFAULT']['Input-Folder']"
   ]
  },
  {
   "cell_type": "code",
   "execution_count": 2,
   "metadata": {},
   "outputs": [],
   "source": [
    "# read files from a folder\n",
    "def read_file(input_folder):\n",
    "    extension = 'csv'\n",
    "    all_filenames = [i for i in glob.glob(input_folder + '*.{}'.format(extension))]\n",
    "    return all_filenames"
   ]
  },
  {
   "cell_type": "code",
   "execution_count": 3,
   "metadata": {},
   "outputs": [],
   "source": [
    "# get dictionary for hashtag and count\n",
    "def get_dic_hashtag(file,dic_hashtag):\n",
    "    with open(file,'r') as csv_file:\n",
    "            file_reader = csv.reader(csv_file,delimiter=',')\n",
    "            header = next(file_reader,None)\n",
    "            for row in file_reader:\n",
    "                hashtag = row[0]\n",
    "                count = row[2]\n",
    "                if hashtag in dic_hashtag :\n",
    "                    dic_hashtag[hashtag] = int(dic_hashtag[hashtag]) + int(count)\n",
    "                else:\n",
    "                    dic_hashtag[hashtag] = int(count)\n",
    "    return dic_hashtag"
   ]
  },
  {
   "cell_type": "code",
   "execution_count": 4,
   "metadata": {},
   "outputs": [],
   "source": [
    "# get top 100 hashtags for each csv file\n",
    "def get_top_100_hashtags(all_filenames):\n",
    "    for file in all_filenames:\n",
    "        print(\"----------------------------------\")\n",
    "        filename=os.path.basename(file)\n",
    "        print(\"Processing on file: \" + filename)\n",
    "        dic_hashtag = {}\n",
    "        dic_hashtag = get_dic_hashtag(file,dic_hashtag)\n",
    "        top_100_htag = dict(sorted(dic_hashtag.items(), key=lambda x: x[1], reverse=True)[:100])\n",
    "        print(\"Top 100 hashtags are done.\")\n",
    "        export_csv(filename,top_100_htag)\n",
    "        print(\"----------------------------------\")\n",
    "        "
   ]
  },
  {
   "cell_type": "code",
   "execution_count": 5,
   "metadata": {},
   "outputs": [],
   "source": [
    "# export to csv\n",
    "def export_csv(filename,top_100_htag):  \n",
    "    with open(filename, 'w') as f:\n",
    "        for key in top_100_htag.keys():\n",
    "            f.write(\"%s,%s\\n\"%(key,top_100_htag[key]))\n",
    "    print(\"Top 100 hashtags csv file for \" + filename + \" is ready.\")"
   ]
  },
  {
   "cell_type": "code",
   "execution_count": 6,
   "metadata": {},
   "outputs": [
    {
     "name": "stdout",
     "output_type": "stream",
     "text": [
      "----------------------------------\n",
      "Processing on file: combined_csv_Australia0.csv\n",
      "Top 100 hashtags are done.\n",
      "Top 100 hashtags csv file for combined_csv_Australia0.csv is ready.\n",
      "----------------------------------\n",
      "----------------------------------\n",
      "Processing on file: combined_csv_Other0.csv\n",
      "Top 100 hashtags are done.\n",
      "Top 100 hashtags csv file for combined_csv_Other0.csv is ready.\n",
      "----------------------------------\n"
     ]
    }
   ],
   "source": [
    "# main function\n",
    "all_filenames = read_file(input_folder)\n",
    "dic_hashtag = get_top_100_hashtags(all_filenames)"
   ]
  },
  {
   "cell_type": "code",
   "execution_count": null,
   "metadata": {},
   "outputs": [],
   "source": []
  }
 ],
 "metadata": {
  "kernelspec": {
   "display_name": "Python 3",
   "language": "python",
   "name": "python3"
  },
  "language_info": {
   "codemirror_mode": {
    "name": "ipython",
    "version": 3
   },
   "file_extension": ".py",
   "mimetype": "text/x-python",
   "name": "python",
   "nbconvert_exporter": "python",
   "pygments_lexer": "ipython3",
   "version": "3.6.4"
  }
 },
 "nbformat": 4,
 "nbformat_minor": 2
}
