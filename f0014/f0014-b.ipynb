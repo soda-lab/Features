{
 "cells": [
  {
   "cell_type": "markdown",
   "metadata": {},
   "source": [
    "# Import Libraries & Connect MongoDB"
   ]
  },
  {
   "cell_type": "code",
   "execution_count": 1,
   "metadata": {},
   "outputs": [],
   "source": [
    "import glob\n",
    "import configparser\n",
    "import os\n",
    "import csv\n",
    "import time\n",
    "import datetime\n",
    "import re\n",
    "import warnings\n",
    "warnings.filterwarnings(\"ignore\", category=DeprecationWarning)\n",
    "\n",
    "config = configparser.ConfigParser()\n",
    "config.read('config.ini')\n",
    "ip = config['DEFAULT']['IP']\n",
    "port = config['DEFAULT']['MongoDB-Port']\n",
    "output_file_aus = config['DEFAULT']['Output-File-Aus']\n",
    "output_file_world = config['DEFAULT']['Output-File-World']\n",
    "\n",
    "from pymongo import MongoClient\n",
    "client = MongoClient(ip, int(port))"
   ]
  },
  {
   "cell_type": "code",
   "execution_count": 2,
   "metadata": {},
   "outputs": [],
   "source": [
    "db_twitter = client[\"Twitter\"]\n",
    "collections_twitter = db_twitter.collection_names()"
   ]
  },
  {
   "cell_type": "markdown",
   "metadata": {},
   "source": [
    "# Current year and week"
   ]
  },
  {
   "cell_type": "code",
   "execution_count": 3,
   "metadata": {},
   "outputs": [
    {
     "name": "stdout",
     "output_type": "stream",
     "text": [
      "current year : 2019\n",
      "current week : 23\n"
     ]
    }
   ],
   "source": [
    "current_timestamp = int(time.time() * 1000)\n",
    "current_year = int(datetime.datetime.now().year)\n",
    "print(\"current year : \" + str(current_year))\n",
    "\n",
    "current_week = int((current_timestamp - 1546214400000)/1000/604800)+1\n",
    "print(\"current week : \" + str(current_week))"
   ]
  },
  {
   "cell_type": "markdown",
   "metadata": {},
   "source": [
    "# Collection : Number of records"
   ]
  },
  {
   "cell_type": "code",
   "execution_count": 4,
   "metadata": {},
   "outputs": [
    {
     "name": "stdout",
     "output_type": "stream",
     "text": [
      "2018_W52_Twitter_Australia: 38,065\n",
      "2019_W1_Twitter_Australia: 40,880\n",
      "2019_W20_Twitter_Australia: 1\n",
      "2019_W2_Twitter_Australia: 37,645\n",
      "2019_W4_Twitter_Australia: 59,625\n",
      "2019_W5_Twitter_Australia: 61,617\n",
      "2019_W6_Twitter_Australia: 61,435\n",
      "2019_W7_Twitter_Australia: 28,017\n",
      "2019_W8_Twitter_Australia: 60,035\n"
     ]
    }
   ],
   "source": [
    "dic_collection = {}\n",
    "for i in collections_twitter:\n",
    "    if i.startswith(\"20\") and \"Australia\" in i:\n",
    "        year = i[0:4]\n",
    "        week = re.search('_(.+?)_', i).group(1)[1:]\n",
    "        if int(year) < current_year:\n",
    "            dic_collection[i] = \"{:,}\".format(db_twitter[i].find({}).count())\n",
    "        else:\n",
    "            try:\n",
    "                if int(week) < current_week:\n",
    "                    dic_collection[i] = \"{:,}\".format(db_twitter[i].find({}).count())\n",
    "            except: pass\n",
    "\n",
    "for key in sorted(dic_collection):\n",
    "    print(\"%s: %s\" % (key, dic_collection[key]))"
   ]
  },
  {
   "cell_type": "markdown",
   "metadata": {},
   "source": [
    "# Pipeline"
   ]
  },
  {
   "cell_type": "code",
   "execution_count": 5,
   "metadata": {},
   "outputs": [],
   "source": [
    "pipeline = [\n",
    "    {\"$match\": { \"entities.hashtags\": {\"$exists\":True,\"$ne\":[]}}},\n",
    "    {\"$match\": { \"lang\" : \"en\"}},\n",
    "    { \"$group\": {\n",
    "        \"_id\": \"$entities.hashtags\",\n",
    "        \"count\": { \"$sum\": 1 },\n",
    "        }\n",
    "    }\n",
    "]"
   ]
  },
  {
   "cell_type": "markdown",
   "metadata": {},
   "source": [
    "# Supporting Function"
   ]
  },
  {
   "cell_type": "code",
   "execution_count": 6,
   "metadata": {},
   "outputs": [],
   "source": [
    "def get_dic(dic_hashtag, data, h, i):\n",
    "    if len(dic_hashtag)>0:\n",
    "        if h in dic_hashtag:\n",
    "            dic_hashtag[h] += data[i][\"count\"]\n",
    "        else:\n",
    "            dic_hashtag[h] = data[i][\"count\"]\n",
    "    else:\n",
    "        dic_hashtag[h] = data[i][\"count\"]\n",
    "    return dic_hashtag"
   ]
  },
  {
   "cell_type": "code",
   "execution_count": 7,
   "metadata": {},
   "outputs": [],
   "source": [
    "def write_csv(output_file, top_100_htag):\n",
    "    csv_columns = ['hashtag','count']\n",
    "    with open(output_file, 'w') as f:\n",
    "        writer = csv.DictWriter(f, fieldnames=csv_columns)\n",
    "        writer.writeheader()\n",
    "        for key in top_100_htag.keys():\n",
    "            f.write(\"%s,%s\\n\"%(key,top_100_htag[key]))\n",
    "    print(output_file + \" is ready.\")"
   ]
  },
  {
   "cell_type": "markdown",
   "metadata": {},
   "source": [
    "# Producing the hashtag list with count"
   ]
  },
  {
   "cell_type": "code",
   "execution_count": 8,
   "metadata": {},
   "outputs": [
    {
     "name": "stdout",
     "output_type": "stream",
     "text": [
      "-------------------\n",
      "Processing on collection: 2018_W52_Twitter_Australia\n",
      "hashtag dictionary for collection 2018_W52_Twitter_Australia is finished\n",
      "-------------------\n",
      "-------------------\n",
      "Processing on collection: 2019_W1_Twitter_Australia\n",
      "hashtag dictionary for collection 2019_W1_Twitter_Australia is finished\n",
      "-------------------\n",
      "-------------------\n",
      "Processing on collection: 2019_W20_Twitter_Australia\n",
      "hashtag dictionary for collection 2019_W20_Twitter_Australia is finished\n",
      "-------------------\n",
      "-------------------\n",
      "Processing on collection: 2019_W2_Twitter_Australia\n",
      "hashtag dictionary for collection 2019_W2_Twitter_Australia is finished\n",
      "-------------------\n",
      "-------------------\n",
      "Processing on collection: 2019_W4_Twitter_Australia\n",
      "hashtag dictionary for collection 2019_W4_Twitter_Australia is finished\n",
      "-------------------\n",
      "-------------------\n",
      "Processing on collection: 2019_W5_Twitter_Australia\n",
      "hashtag dictionary for collection 2019_W5_Twitter_Australia is finished\n",
      "-------------------\n",
      "-------------------\n",
      "Processing on collection: 2019_W6_Twitter_Australia\n",
      "hashtag dictionary for collection 2019_W6_Twitter_Australia is finished\n",
      "-------------------\n",
      "-------------------\n",
      "Processing on collection: 2019_W7_Twitter_Australia\n",
      "hashtag dictionary for collection 2019_W7_Twitter_Australia is finished\n",
      "-------------------\n",
      "-------------------\n",
      "Processing on collection: 2019_W8_Twitter_Australia\n",
      "hashtag dictionary for collection 2019_W8_Twitter_Australia is finished\n",
      "-------------------\n"
     ]
    }
   ],
   "source": [
    "dic_hashtag_aus={}\n",
    "dic_hashtag_world={}\n",
    "for collection in sorted(dic_collection):\n",
    "    print(\"-------------------\")\n",
    "    print(\"Processing on collection: \" + collection)\n",
    "    data = list(db_twitter[collection].aggregate(pipeline,allowDiskUse=True))\n",
    "    if len(data) > 0 : \n",
    "        for i in range(len(data)):\n",
    "            for j in data[i][\"_id\"]:\n",
    "                h = j[\"text\"]\n",
    "                if(re.match(\"^[a-zA-Z0-9]*$\",h)):\n",
    "                    if \"Australia\" in collection:\n",
    "                        dic_hashtag_aus = get_dic(dic_hashtag_aus, data, h, i)\n",
    "                    elif \"Other\" in collection:\n",
    "                        dic_hashtag_world = get_dic(dic_hashtag_world, data, h, i)\n",
    "    print(\"hashtag dictionary for collection \" + collection + \" is finished\")\n",
    "    print(\"-------------------\")"
   ]
  },
  {
   "cell_type": "markdown",
   "metadata": {},
   "source": [
    "# Get Top 100 Hashtags"
   ]
  },
  {
   "cell_type": "code",
   "execution_count": 9,
   "metadata": {},
   "outputs": [
    {
     "name": "stdout",
     "output_type": "stream",
     "text": [
      "Top 100 hashtags dictionary is ready\n"
     ]
    }
   ],
   "source": [
    "aus_top_100_htag = dict(sorted(dic_hashtag_aus.items(), key=lambda x: x[1], reverse=True)[:100])\n",
    "world_top_100_htag = dict(sorted(dic_hashtag_world.items(), key=lambda x: x[1], reverse=True)[:100])\n",
    "print(\"Top 100 hashtags dictionary is ready\")"
   ]
  },
  {
   "cell_type": "markdown",
   "metadata": {},
   "source": [
    "# Export CSV File"
   ]
  },
  {
   "cell_type": "code",
   "execution_count": 10,
   "metadata": {},
   "outputs": [
    {
     "name": "stdout",
     "output_type": "stream",
     "text": [
      "aus_top_100_hashtag.csv is ready.\n",
      "world_top_100_hashtag.csv is ready.\n"
     ]
    }
   ],
   "source": [
    "write_csv(output_file_aus, aus_top_100_htag)\n",
    "write_csv(output_file_world, world_top_100_htag)"
   ]
  }
 ],
 "metadata": {
  "kernelspec": {
   "display_name": "Python 3",
   "language": "python",
   "name": "python3"
  },
  "language_info": {
   "codemirror_mode": {
    "name": "ipython",
    "version": 3
   },
   "file_extension": ".py",
   "mimetype": "text/x-python",
   "name": "python",
   "nbconvert_exporter": "python",
   "pygments_lexer": "ipython3",
   "version": "3.6.4"
  }
 },
 "nbformat": 4,
 "nbformat_minor": 2
}
