{
 "cells": [
  {
   "cell_type": "markdown",
   "metadata": {},
   "source": [
    "# Import Libraries"
   ]
  },
  {
   "cell_type": "code",
   "execution_count": 1,
   "metadata": {},
   "outputs": [],
   "source": [
    "import configparser\n",
    "import pandas as pd\n",
    "from sklearn.preprocessing import StandardScaler\n",
    "from sklearn.decomposition import PCA\n",
    "from sklearn.cluster import KMeans\n",
    "import numpy as np\n",
    "import operator\n",
    "import warnings\n",
    "warnings.filterwarnings(\"ignore\", category=DeprecationWarning)"
   ]
  },
  {
   "cell_type": "markdown",
   "metadata": {},
   "source": [
    "# Read Config File"
   ]
  },
  {
   "cell_type": "code",
   "execution_count": 2,
   "metadata": {},
   "outputs": [],
   "source": [
    "config = configparser.ConfigParser()\n",
    "config.read('config.ini')\n",
    "input_directory = config['DEFAULT']['Input-Files-Directory']\n",
    "input_file = config['DEFAULT']['Input_Data']\n",
    "pca_no = config['DEFAULT']['PCA_Component_No']\n",
    "kmeans_ini_status = config['DEFAULT']['Kmeans_Init_Status']\n",
    "kmeans_cluster_no = config['DEFAULT']['Kmean_Cluster_No']\n",
    "kmeans_random_state = config['DEFAULT']['Kmeans_Random_State']\n",
    "ref_cluster_result_file = config['DEFAULT']['Ref-Cluster-Result-File']\n",
    "output_file = config['DEFAULT']['Output-File']"
   ]
  },
  {
   "cell_type": "markdown",
   "metadata": {},
   "source": [
    "# Apply Principal Component Analysis (PCA)"
   ]
  },
  {
   "cell_type": "code",
   "execution_count": 3,
   "metadata": {},
   "outputs": [],
   "source": [
    "df = pd.read_csv(\"{}/{}.csv\".format(input_directory, input_file), sep=',', encoding='utf-8')\n",
    "features = df.columns.tolist()\n",
    "features.remove('code')\n",
    "features.remove('pops')\n",
    "features.remove('hhs')\n",
    "features.remove('p15')\n",
    "features.remove('Median Age')\n",
    "features.remove('Median Monthly Mortgage')\n",
    "features.remove('Median Ind Income')\n",
    "features.remove('Median Weekly Rent')\n",
    "features.remove('Median Fam Income')\n",
    "features.remove('Median Hhd Income')\n",
    "features.remove('Av Household Size')\n",
    "\n",
    "x = df.loc[:, features].values\n",
    "\n",
    "# set number of components\n",
    "num = int(pca_no)\n",
    "\n",
    "pca = PCA(n_components=num)\n",
    "pc_columns = []\n",
    "for i in range(1,num+1): \n",
    "    pc_columns.append('pc{}'.format(i))\n",
    "\n",
    "principalComponents = pca.fit_transform(x)\n",
    "principalDf = pd.DataFrame(data = principalComponents, columns = pc_columns)"
   ]
  },
  {
   "cell_type": "markdown",
   "metadata": {},
   "source": [
    "# K-means clustering"
   ]
  },
  {
   "cell_type": "code",
   "execution_count": 4,
   "metadata": {},
   "outputs": [
    {
     "name": "stderr",
     "output_type": "stream",
     "text": [
      "/Users/jihoonwoo/opt/anaconda3/lib/python3.8/site-packages/pandas/core/indexing.py:671: SettingWithCopyWarning: \n",
      "A value is trying to be set on a copy of a slice from a DataFrame\n",
      "\n",
      "See the caveats in the documentation: https://pandas.pydata.org/pandas-docs/stable/user_guide/indexing.html#returning-a-view-versus-a-copy\n",
      "  self._setitem_with_indexer(indexer, value)\n"
     ]
    }
   ],
   "source": [
    "kmeans = KMeans(\n",
    "    init = kmeans_ini_status,\n",
    "    n_clusters = int(kmeans_cluster_no),\n",
    "    random_state = int(kmeans_random_state)\n",
    ")\n",
    "\n",
    "kmeans.fit(principalDf)\n",
    "\n",
    "# save kmean clustering result to df\n",
    "df['cluster'] = kmeans.labels_\n",
    "\n",
    "# convert data types\n",
    "df['code'] = df['code'].astype(str)\n",
    "df['cluster'] = df['cluster'].astype(int)\n",
    "df.rename(columns={'code':'sa1_7digitcode_2016'}, inplace=True)\n",
    "\n",
    "# renmae clusters for visualizing clusters on map by using NationalMap\n",
    "for index, row in df.iterrows():\n",
    "    cluster_no = row['cluster']\n",
    "    df['cluster'].iloc[index] = \"{}_cluster\".format(cluster_no)"
   ]
  },
  {
   "cell_type": "markdown",
   "metadata": {},
   "source": [
    "# Change cluster number to meaningful name"
   ]
  },
  {
   "cell_type": "code",
   "execution_count": 5,
   "metadata": {},
   "outputs": [],
   "source": [
    "def get_cluster_name(df, LW_df, cluster_name):\n",
    "    \"\"\" rename cluster by refering exist clustered data \"\"\"\n",
    "    cluster_name_dict = {}\n",
    "    for i in range(len(set(df.cluster))): \n",
    "        selected_df1 = df.loc[df.cluster == \"{}_cluster\".format(i)]\n",
    "        max_sa1_matched = 0\n",
    "        for c in cluster_name:\n",
    "            selected_df2 = LW_df.loc[LW_df.cluster == c].astype(str) # covert data type as str\n",
    "            common_sa1 = list(set(selected_df1.sa1_7digitcode_2016.tolist()).intersection(selected_df2.sa1_7digitcode_2016.tolist()))\n",
    "            if max_sa1_matched < len(common_sa1):\n",
    "                max_sa1_matched = len(common_sa1)\n",
    "                matched_cluster = c\n",
    "        cluster_name_dict[\"{}_cluster\".format(i)] = matched_cluster\n",
    "        \n",
    "    return cluster_name_dict"
   ]
  },
  {
   "cell_type": "code",
   "execution_count": 6,
   "metadata": {},
   "outputs": [],
   "source": [
    "def replace_cluster_number_to_name(df, LW_df, cluster_name):\n",
    "    cluster_name_dict = get_cluster_name(df, LW_df, cluster_name)\n",
    "\n",
    "    # replace cluster number to name\n",
    "    for index, row in df.iterrows():\n",
    "        df['cluster'].iloc[index] = cluster_name_dict[row['cluster']]\n",
    "    return df"
   ]
  },
  {
   "cell_type": "code",
   "execution_count": 7,
   "metadata": {},
   "outputs": [],
   "source": [
    "LW_df = pd.read_csv('{}.csv'.format(ref_cluster_result_file), sep=',', encoding='utf-8')\n",
    "cluster_name = list(set(LW_df.cluster))\n",
    "LW_df.sort_values(by=['sa1_7digitcode_2016'], inplace=True)\n",
    "df.sort_values(by=['sa1_7digitcode_2016'], inplace=True)\n",
    "df = replace_cluster_number_to_name(df, LW_df, cluster_name)"
   ]
  },
  {
   "cell_type": "markdown",
   "metadata": {},
   "source": [
    "# Save Result"
   ]
  },
  {
   "cell_type": "code",
   "execution_count": 8,
   "metadata": {},
   "outputs": [],
   "source": [
    "df.to_csv('{}.csv'.format(output_file), sep=',', encoding='utf-8', index=False)"
   ]
  },
  {
   "cell_type": "markdown",
   "metadata": {},
   "source": [
    "# Evaluate result by comparing exist cluster result"
   ]
  },
  {
   "cell_type": "code",
   "execution_count": 9,
   "metadata": {},
   "outputs": [
    {
     "name": "stdout",
     "output_type": "stream",
     "text": [
      "95.82% of SA1 have identical cluster in the two results\n"
     ]
    }
   ],
   "source": [
    "new_df = pd.read_csv('{}.csv'.format(output_file), sep=',', encoding='utf-8')\n",
    "new_df.sort_values(by=['sa1_7digitcode_2016'], inplace=True)\n",
    "\n",
    "exist_df = pd.read_csv('{}.csv'.format(ref_cluster_result_file), sep=',', encoding='utf-8')\n",
    "exist_df.sort_values(by=['sa1_7digitcode_2016'], inplace=True)\n",
    "\n",
    "merged_df = pd.merge(exist_df, new_df, on='sa1_7digitcode_2016')\n",
    "count = 0\n",
    "for index, row in merged_df.iterrows():\n",
    "    if row['cluster_x'] != row['cluster_y']:\n",
    "        count += 1\n",
    "\n",
    "print(\"{}% of SA1 have identical cluster in the two results\".format(round((1 - (count/len(merged_df)))*100, 2)))"
   ]
  }
 ],
 "metadata": {
  "kernelspec": {
   "display_name": "Python 3",
   "language": "python",
   "name": "python3"
  },
  "language_info": {
   "codemirror_mode": {
    "name": "ipython",
    "version": 3
   },
   "file_extension": ".py",
   "mimetype": "text/x-python",
   "name": "python",
   "nbconvert_exporter": "python",
   "pygments_lexer": "ipython3",
   "version": "3.8.3"
  }
 },
 "nbformat": 4,
 "nbformat_minor": 4
}
