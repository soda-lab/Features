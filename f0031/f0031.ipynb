{
 "cells": [
  {
   "cell_type": "markdown",
   "metadata": {},
   "source": [
    "# Import Libraries"
   ]
  },
  {
   "cell_type": "code",
   "execution_count": 1,
   "metadata": {},
   "outputs": [],
   "source": [
    "import configparser\n",
    "import pandas as pd\n",
    "from sklearn.preprocessing import StandardScaler\n",
    "from sklearn.decomposition import PCA\n",
    "from sklearn.cluster import KMeans\n",
    "import numpy as np\n",
    "import operator\n",
    "import warnings\n",
    "from datetime import datetime\n",
    "warnings.filterwarnings(\"ignore\", category=DeprecationWarning)"
   ]
  },
  {
   "cell_type": "markdown",
   "metadata": {},
   "source": [
    "# Read Config File"
   ]
  },
  {
   "cell_type": "code",
   "execution_count": 2,
   "metadata": {},
   "outputs": [],
   "source": [
    "config = configparser.ConfigParser()\n",
    "config.read('config.ini')\n",
    "input_directory = config['DEFAULT']['Input-Files-Directory']\n",
    "input_file = config['DEFAULT']['Input_Data']\n",
    "pca_no = config['DEFAULT']['PCA_Component_No']\n",
    "kmeans_ini_status = config['DEFAULT']['Kmeans_Init_Status']\n",
    "kmeans_cluster_no = config['DEFAULT']['Kmean_Cluster_No']\n",
    "ref_cluster_result_file = config['DEFAULT']['Ref-Cluster-Result-File']\n",
    "iter_num = config['DEFAULT']['no_iteration']\n",
    "output_file = config['DEFAULT']['Output-File']"
   ]
  },
  {
   "cell_type": "markdown",
   "metadata": {},
   "source": [
    "# Read Input Files"
   ]
  },
  {
   "cell_type": "code",
   "execution_count": 3,
   "metadata": {},
   "outputs": [],
   "source": [
    "df = pd.read_csv(\"{}/{}.csv\".format(input_directory, input_file), sep=',', encoding='utf-8')\n",
    "ref_df = pd.read_csv(\"{}.csv\".format(ref_cluster_result_file), sep=',', encoding='utf-8')"
   ]
  },
  {
   "cell_type": "markdown",
   "metadata": {},
   "source": [
    "# Apply Principal Component Analysis (PCA)"
   ]
  },
  {
   "cell_type": "code",
   "execution_count": 4,
   "metadata": {},
   "outputs": [],
   "source": [
    "features = df.columns.tolist()\n",
    "features.remove('code')\n",
    "features.remove('pops')\n",
    "features.remove('hhs')\n",
    "features.remove('p15')\n",
    "features.remove('Median Age')\n",
    "features.remove('Median Monthly Mortgage')\n",
    "features.remove('Median Ind Income')\n",
    "features.remove('Median Weekly Rent')\n",
    "features.remove('Median Fam Income')\n",
    "features.remove('Median Hhd Income')\n",
    "features.remove('Av Household Size')\n",
    "\n",
    "x = df.loc[:, features].values\n",
    "\n",
    "# set number of components\n",
    "num = int(pca_no)\n",
    "\n",
    "pca = PCA(n_components=num)\n",
    "pc_columns = []\n",
    "for i in range(1,num+1): \n",
    "    pc_columns.append('pc{}'.format(i))\n",
    "\n",
    "principalComponents = pca.fit_transform(x)\n",
    "principalDf = pd.DataFrame(data = principalComponents, columns = pc_columns)"
   ]
  },
  {
   "cell_type": "markdown",
   "metadata": {},
   "source": [
    "# K-means clustering"
   ]
  },
  {
   "cell_type": "code",
   "execution_count": 5,
   "metadata": {},
   "outputs": [],
   "source": [
    "def get_cluster_name(df, ref_df, cluster_name):\n",
    "    \"\"\" rename cluster by refering exist clustered data \"\"\"\n",
    "    cluster_name_dict = {}\n",
    "    for i in range(len(set(df.cluster))): \n",
    "        selected_df1 = df.loc[df.cluster == i].astype(str) # covert data type as str\n",
    "        max_sa1_matched = 0\n",
    "        matched_cluster = cluster_name[0]\n",
    "        for c in cluster_name:\n",
    "            selected_df2 = ref_df.loc[ref_df.cluster == c].astype(str) # covert data type as str\n",
    "            common_sa1 = list(set(selected_df1.code.tolist()).intersection(selected_df2.sa1_7digitcode_2016.tolist()))\n",
    "            if max_sa1_matched < len(common_sa1):\n",
    "                max_sa1_matched = len(common_sa1)\n",
    "                matched_cluster = c\n",
    "        cluster_name_dict[i] = matched_cluster\n",
    "        \n",
    "    return cluster_name_dict"
   ]
  },
  {
   "cell_type": "code",
   "execution_count": 6,
   "metadata": {},
   "outputs": [],
   "source": [
    "def replace_cluster_number_to_name(df, ref_df, cluster_name, i):\n",
    "    \"\"\" replace cluster number to cluster name. E.g. 1 -> Country Towns \"\"\"\n",
    "    cluster_name_dict = get_cluster_name(df, ref_df, cluster_name)\n",
    "    for index, row in df.iterrows():\n",
    "        df['cluster'].iloc[index] = cluster_name_dict[row['cluster']]\n",
    "    df.rename(columns={\"cluster\": \"result_{}\".format(i)}, inplace=True)\n",
    "    return df"
   ]
  },
  {
   "cell_type": "code",
   "execution_count": 7,
   "metadata": {},
   "outputs": [],
   "source": [
    "def running_kmeans(principalDf, iter_num, df, ref_df, kmeans_ini_status, kmeans_cluster_no):\n",
    "    cluster_name = list(set(ref_df.cluster))\n",
    "    result_df = pd.DataFrame()\n",
    "    result_df['code'] = df['code']\n",
    "    start_time = datetime.now()\n",
    "\n",
    "    for i in range(0, int(iter_num)):\n",
    "        kmeans = KMeans(\n",
    "            init=kmeans_ini_status,\n",
    "            n_clusters= int(kmeans_cluster_no),\n",
    "        )\n",
    "\n",
    "        kmeans.fit(principalDf)\n",
    "        result_df['cluster'] = kmeans.labels_ \n",
    "        result_df = replace_cluster_number_to_name(result_df, ref_df, cluster_name, i)\n",
    "        end_time = datetime.now()\n",
    "        print(\"Applyig {} kmeans with {} second proceeding times\".format(i, end_time - start_time, 2))\n",
    "    return result_df\n",
    "    "
   ]
  },
  {
   "cell_type": "code",
   "execution_count": 8,
   "metadata": {},
   "outputs": [],
   "source": [
    "def search_max_matching_cluster(principalDf, iter_num, df, ref_df, kmeans_ini_status, kmeans_cluster_no):\n",
    "    \"\"\" Iterate kmean algoritm for searching max matching SA1 for cluster \"\"\"\n",
    "    result_df = running_kmeans(principalDf, iter_num, df, ref_df, kmeans_ini_status, kmeans_cluster_no)\n",
    "    #find the most frequent value of each row \n",
    "    result_df['most_freq_cluster'] = ''\n",
    "    result_df['most_freq_cluster'] = result_df.mode(axis=1) \n",
    "    return result_df"
   ]
  },
  {
   "cell_type": "code",
   "execution_count": 9,
   "metadata": {},
   "outputs": [
    {
     "name": "stderr",
     "output_type": "stream",
     "text": [
      "/Users/jihoonwoo/opt/anaconda3/lib/python3.8/site-packages/pandas/core/indexing.py:671: SettingWithCopyWarning: \n",
      "A value is trying to be set on a copy of a slice from a DataFrame\n",
      "\n",
      "See the caveats in the documentation: https://pandas.pydata.org/pandas-docs/stable/user_guide/indexing.html#returning-a-view-versus-a-copy\n",
      "  self._setitem_with_indexer(indexer, value)\n"
     ]
    },
    {
     "name": "stdout",
     "output_type": "stream",
     "text": [
      "Applyig 0 kmeans with 0:00:20.142117 second proceeding times\n"
     ]
    },
    {
     "name": "stderr",
     "output_type": "stream",
     "text": [
      "/Users/jihoonwoo/opt/anaconda3/lib/python3.8/site-packages/pandas/core/algorithms.py:846: UserWarning: Unable to sort modes: '<' not supported between instances of 'int' and 'str'\n",
      "  warn(f\"Unable to sort modes: {err}\")\n",
      "/Users/jihoonwoo/opt/anaconda3/lib/python3.8/site-packages/pandas/core/algorithms.py:846: UserWarning: Unable to sort modes: '<' not supported between instances of 'str' and 'int'\n",
      "  warn(f\"Unable to sort modes: {err}\")\n"
     ]
    }
   ],
   "source": [
    "result_df = search_max_matching_cluster(principalDf, iter_num, df, ref_df, kmeans_ini_status, kmeans_cluster_no)"
   ]
  },
  {
   "cell_type": "code",
   "execution_count": 11,
   "metadata": {},
   "outputs": [],
   "source": [
    "final_df = result_df[['code', 'most_freq_cluster']]\n",
    "final_df.rename(columns={\"code\": \"sa1_7digitcode_2016\", \"most_freq_cluster\": \"cluster\"}, inplace=True)\n",
    "final_df.to_csv('{}.csv'.format(output_file), sep=',', encoding='utf-8', index=False)"
   ]
  }
 ],
 "metadata": {
  "kernelspec": {
   "display_name": "Python 3",
   "language": "python",
   "name": "python3"
  },
  "language_info": {
   "codemirror_mode": {
    "name": "ipython",
    "version": 3
   },
   "file_extension": ".py",
   "mimetype": "text/x-python",
   "name": "python",
   "nbconvert_exporter": "python",
   "pygments_lexer": "ipython3",
   "version": "3.8.3"
  }
 },
 "nbformat": 4,
 "nbformat_minor": 4
}
