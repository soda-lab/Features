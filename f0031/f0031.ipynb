{
 "cells": [
  {
   "cell_type": "markdown",
   "metadata": {},
   "source": [
    "# Import Libraries"
   ]
  },
  {
   "cell_type": "code",
   "execution_count": 7,
   "metadata": {},
   "outputs": [],
   "source": [
    "import configparser\n",
    "import pandas as pd\n",
    "from sklearn.preprocessing import StandardScaler\n",
    "from sklearn.decomposition import PCA\n",
    "from sklearn.cluster import KMeans\n",
    "import numpy as np\n",
    "import operator\n",
    "import warnings\n",
    "warnings.filterwarnings(\"ignore\", category=DeprecationWarning)"
   ]
  },
  {
   "cell_type": "markdown",
   "metadata": {},
   "source": [
    "# Read Config File"
   ]
  },
  {
   "cell_type": "code",
   "execution_count": 8,
   "metadata": {},
   "outputs": [],
   "source": [
    "config = configparser.ConfigParser()\n",
    "config.read('config.ini')\n",
    "input_directory = config['DEFAULT']['Input-Files-Directory']\n",
    "input_file = config['DEFAULT']['Input_Data']\n",
    "pca_no = config['DEFAULT']['PCA_Component_No']\n",
    "kmeans_ini_status = config['DEFAULT']['Kmeans_Init_Status']\n",
    "kmeans_cluster_no = config['DEFAULT']['Kmean_Cluster_No']\n",
    "kmeans_ini_no = config['DEFAULT']['Kmeans_Init_No']\n",
    "kmeans_max = config['DEFAULT']['Kmeans_Max_iter']\n",
    "kmeans_random_state = config['DEFAULT']['Kmeans_Random_State']\n",
    "output_file = config['DEFAULT']['Output-File']"
   ]
  },
  {
   "cell_type": "markdown",
   "metadata": {},
   "source": [
    "# Apply Principal Component Analysis (PCA)"
   ]
  },
  {
   "cell_type": "code",
   "execution_count": 9,
   "metadata": {},
   "outputs": [],
   "source": [
    "df = pd.read_csv(\"{}/{}.csv\".format(input_directory, input_file), sep=',', encoding='utf-8')\n",
    "features = df.columns.tolist()\n",
    "features.remove('code')\n",
    "features.remove('pops')\n",
    "features.remove('hhs')\n",
    "features.remove('p15')\n",
    "features.remove('Median Age')\n",
    "features.remove('Median Monthly Mortgage')\n",
    "features.remove('Median Ind Income')\n",
    "features.remove('Median Weekly Rent')\n",
    "features.remove('Median Fam Income')\n",
    "features.remove('Median Hhd Income')\n",
    "features.remove('Av Household Size')\n",
    "\n",
    "x = df.loc[:, features].values\n",
    "\n",
    "# set number of components\n",
    "num = int(pca_no)\n",
    "\n",
    "pca = PCA(n_components=num)\n",
    "pc_columns = []\n",
    "for i in range(1,num+1): \n",
    "    pc_columns.append('pc{}'.format(i))\n",
    "\n",
    "principalComponents = pca.fit_transform(x)\n",
    "principalDf = pd.DataFrame(data = principalComponents, columns = pc_columns)"
   ]
  },
  {
   "cell_type": "markdown",
   "metadata": {},
   "source": [
    "# K-means clustering"
   ]
  },
  {
   "cell_type": "code",
   "execution_count": 10,
   "metadata": {},
   "outputs": [
    {
     "name": "stderr",
     "output_type": "stream",
     "text": [
      "/Users/jihoonwoo/opt/anaconda3/lib/python3.8/site-packages/pandas/core/indexing.py:671: SettingWithCopyWarning: \n",
      "A value is trying to be set on a copy of a slice from a DataFrame\n",
      "\n",
      "See the caveats in the documentation: https://pandas.pydata.org/pandas-docs/stable/user_guide/indexing.html#returning-a-view-versus-a-copy\n",
      "  self._setitem_with_indexer(indexer, value)\n"
     ]
    }
   ],
   "source": [
    "kmeans = KMeans(\n",
    "    init = kmeans_ini_status,\n",
    "    n_clusters = int(kmeans_cluster_no),\n",
    "    n_init = int(kmeans_ini_no),\n",
    "    max_iter = int(kmeans_max),\n",
    "    random_state = int(kmeans_random_state)\n",
    ")\n",
    "\n",
    "kmeans.fit(principalDf)\n",
    "\n",
    "# save kmean clustering result to df\n",
    "df['cluster'] = kmeans.labels_\n",
    "\n",
    "# convert data types\n",
    "df['code'] = df['code'].astype(str)\n",
    "df['cluster'] = df['cluster'].astype(int)\n",
    "df.rename(columns={'code':'sa1_7digitcode_2016'}, inplace=True)\n",
    "\n",
    "# renmae clusters for visualizing clusters on map by using NationalMap\n",
    "for index, row in df.iterrows():\n",
    "    cluster_no = row['cluster']\n",
    "    df['cluster'].iloc[index] = \"{}_cluster\".format(cluster_no)"
   ]
  },
  {
   "cell_type": "markdown",
   "metadata": {},
   "source": [
    "# Change cluster number to meaningful name"
   ]
  },
  {
   "cell_type": "code",
   "execution_count": 11,
   "metadata": {},
   "outputs": [],
   "source": [
    "for index, row in df.iterrows():\n",
    "    if row['cluster'] == '0_cluster':\n",
    "        df['cluster'].iloc[index] = 'Remote'\n",
    "    elif row['cluster'] == '1_cluster':\n",
    "        df['cluster'].iloc[index] = 'Semi Rural'\n",
    "    elif row['cluster'] == '2_cluster':\n",
    "        df['cluster'].iloc[index] = 'Country Towns'\n",
    "    elif row['cluster'] == '3_cluster':\n",
    "        df['cluster'].iloc[index] = 'Fringe_Growth'\n",
    "    elif row['cluster'] == '4_cluster':\n",
    "        df['cluster'].iloc[index] = 'Migrants'\n",
    "    elif row['cluster'] == '5_cluster':\n",
    "        df['cluster'].iloc[index] = 'Rural'\n",
    "    elif row['cluster'] == '6_cluster':\n",
    "        df['cluster'].iloc[index] = 'Inner city'\n",
    "    elif row['cluster'] == '7_cluster':\n",
    "        df['cluster'].iloc[index] = 'Leafy Suburbs'\n",
    "    elif row['cluster'] == '8_cluster':\n",
    "        df['cluster'].iloc[index] = 'Inner Suburbs'\n",
    "    elif row['cluster'] == '9_cluster':\n",
    "        df['cluster'].iloc[index] = 'CBD'"
   ]
  },
  {
   "cell_type": "markdown",
   "metadata": {},
   "source": [
    "# Save Result"
   ]
  },
  {
   "cell_type": "code",
   "execution_count": 12,
   "metadata": {},
   "outputs": [],
   "source": [
    "df.to_csv('{}.csv'.format(output_file), sep=',', encoding='utf-8', index=False)"
   ]
  }
 ],
 "metadata": {
  "kernelspec": {
   "display_name": "Python 3",
   "language": "python",
   "name": "python3"
  },
  "language_info": {
   "codemirror_mode": {
    "name": "ipython",
    "version": 3
   },
   "file_extension": ".py",
   "mimetype": "text/x-python",
   "name": "python",
   "nbconvert_exporter": "python",
   "pygments_lexer": "ipython3",
   "version": "3.8.3"
  }
 },
 "nbformat": 4,
 "nbformat_minor": 4
}
