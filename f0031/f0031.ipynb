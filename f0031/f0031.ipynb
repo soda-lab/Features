{
 "cells": [
  {
   "cell_type": "markdown",
   "metadata": {},
   "source": [
    "# Import Libraries"
   ]
  },
  {
   "cell_type": "code",
   "execution_count": 1,
   "metadata": {},
   "outputs": [],
   "source": [
    "import configparser\n",
    "import pandas as pd\n",
    "from sklearn.preprocessing import StandardScaler\n",
    "from sklearn.decomposition import PCA\n",
    "from sklearn.cluster import KMeans\n",
    "import numpy as np\n",
    "import operator\n",
    "import warnings\n",
    "from datetime import datetime\n",
    "warnings.filterwarnings(\"ignore\", category=DeprecationWarning)"
   ]
  },
  {
   "cell_type": "markdown",
   "metadata": {},
   "source": [
    "# Read Config File"
   ]
  },
  {
   "cell_type": "code",
   "execution_count": 18,
   "metadata": {},
   "outputs": [],
   "source": [
    "config = configparser.ConfigParser()\n",
    "config.read('config.ini')\n",
    "input_directory = config['DEFAULT']['Input-Files-Directory']\n",
    "CODE = config['DEFAULT']['Code']\n",
    "input_file = config['DEFAULT']['Input_Data']\n",
    "pca_no = config['DEFAULT']['PCA_Component_No']\n",
    "kmeans_ini_status = config['DEFAULT']['Kmeans_Init_Status']\n",
    "kmeans_cluster_no = int(config['DEFAULT']['Kmean_Cluster_No'])\n",
    "ref_cluster_result_file = config['DEFAULT']['Ref-Cluster-Result-File']\n",
    "aggre_cols_file = config['DEFAULT']['Aggre_cols_File']\n",
    "iter_num = int(config['DEFAULT']['no_iteration'])\n",
    "output_file = config['DEFAULT']['Output-File']"
   ]
  },
  {
   "cell_type": "markdown",
   "metadata": {},
   "source": [
    "# Read Input Files"
   ]
  },
  {
   "cell_type": "code",
   "execution_count": 19,
   "metadata": {},
   "outputs": [],
   "source": [
    "df = pd.read_csv(\"{}/{}.csv\".format(input_directory, input_file), sep=',', encoding='utf-8')\n",
    "ref_df = pd.read_csv(\"{}.csv\".format(ref_cluster_result_file), sep=',', encoding='utf-8')\n",
    "aggregate_df = pd.read_csv(\"{}.txt\".format(aggre_cols_file), delimiter = \",\", comment='#', header=0)"
   ]
  },
  {
   "cell_type": "markdown",
   "metadata": {},
   "source": [
    "# Apply Principal Component Analysis (PCA)"
   ]
  },
  {
   "cell_type": "code",
   "execution_count": 4,
   "metadata": {},
   "outputs": [],
   "source": [
    "features = df.columns.tolist()\n",
    "features.remove(CODE)\n",
    "features.remove('pops')\n",
    "features.remove('hhs')\n",
    "features.remove('p15')\n",
    "features.remove('Median Age')\n",
    "features.remove('Median Monthly Mortgage')\n",
    "features.remove('Median Ind Income')\n",
    "features.remove('Median Weekly Rent')\n",
    "features.remove('Median Fam Income')\n",
    "features.remove('Median Hhd Income')\n",
    "features.remove('Av Household Size')\n",
    "\n",
    "x = df.loc[:, features].values\n",
    "\n",
    "# set number of components\n",
    "num = int(pca_no)\n",
    "\n",
    "pca = PCA(n_components=num)\n",
    "pc_columns = []\n",
    "for i in range(1,num+1): \n",
    "    pc_columns.append('pc{}'.format(i))\n",
    "\n",
    "principalComponents = pca.fit_transform(x)\n",
    "pca_df = pd.DataFrame(data = principalComponents, columns = pc_columns)"
   ]
  },
  {
   "cell_type": "markdown",
   "metadata": {},
   "source": [
    "# K-means clustering"
   ]
  },
  {
   "cell_type": "code",
   "execution_count": 5,
   "metadata": {},
   "outputs": [],
   "source": [
    "def get_cluster_name(df, ref_df, cluster_name):\n",
    "    \"\"\" rename cluster by refering exist clustered data \"\"\"\n",
    "    cluster_name_dict = {}\n",
    "    for i in range(len(set(df.cluster))): \n",
    "        selected_df1 = df.loc[df.cluster == i].astype(str) # covert data type as str\n",
    "        max_sa1_matched = 0\n",
    "        matched_cluster = cluster_name[0]\n",
    "        for c in cluster_name:\n",
    "            selected_df2 = ref_df.loc[ref_df.cluster == c].astype(str) # covert data type as str\n",
    "            common_sa1 = list(set(selected_df1[CODE].tolist()).intersection(selected_df2[CODE].tolist()))\n",
    "            if max_sa1_matched < len(common_sa1):\n",
    "                max_sa1_matched = len(common_sa1)\n",
    "                matched_cluster = c\n",
    "        cluster_name_dict[i] = matched_cluster\n",
    "        \n",
    "    return cluster_name_dict"
   ]
  },
  {
   "cell_type": "code",
   "execution_count": 6,
   "metadata": {},
   "outputs": [],
   "source": [
    "def replace_cluster_number_to_name(df, ref_df, cluster_name, i):\n",
    "    \"\"\" replace cluster number to cluster name. E.g. 1 -> Country Towns \"\"\"\n",
    "    cluster_name_dict = get_cluster_name(df, ref_df, cluster_name)\n",
    "    for index, row in df.iterrows():\n",
    "        df['cluster'].iloc[index] = cluster_name_dict[row['cluster']]\n",
    "    df.rename(columns={\"cluster\": \"result_{}\".format(i)}, inplace=True)\n",
    "    return df"
   ]
  },
  {
   "cell_type": "code",
   "execution_count": 7,
   "metadata": {},
   "outputs": [],
   "source": [
    "def running_kmeans(kmeans_cluster_no, kmeans_ini_status, pca_df, iter_num, df, ref_df):\n",
    "    cluster_name = list(set(ref_df.cluster))\n",
    "    result_df = pd.DataFrame()\n",
    "    result_df[CODE] = df[CODE]\n",
    "    start_time = datetime.now()\n",
    "\n",
    "    for i in range(0, iter_num):\n",
    "        kmeans = KMeans(\n",
    "            init=kmeans_ini_status,\n",
    "            n_clusters=kmeans_cluster_no,\n",
    "        )\n",
    "        kmeans.fit(pca_df)\n",
    "        result_df['cluster'] = kmeans.labels_ \n",
    "        result_df = replace_cluster_number_to_name(result_df, ref_df, cluster_name, i)\n",
    "        end_time = datetime.now()\n",
    "        if i % 10 == 0:\n",
    "            print(\"Applyig {} kmeans with {} second proceeding times\".format(i, end_time - start_time, 2))\n",
    "    return result_df\n",
    "    "
   ]
  },
  {
   "cell_type": "code",
   "execution_count": 8,
   "metadata": {},
   "outputs": [],
   "source": [
    "def find_top_matched_communities(df):\n",
    "    \"\"\" read clustering results and save top matching communities in a new dataframe \"\"\"\n",
    "    new_df = pd.DataFrame()\n",
    "    for index, row in df.iterrows():\n",
    "        count_dic = {}\n",
    "        for i in range(0, len(df.columns.tolist())-1):\n",
    "            # read 100 times kmean clustering results and save into dictionary\n",
    "            matched_community = row['result_{}'.format(i)]\n",
    "            if matched_community not in count_dic.keys():\n",
    "                count_dic[matched_community] = 1\n",
    "            else:\n",
    "                count_dic[matched_community] += 1 \n",
    "        # sort the dictionary by value and save into new DF\n",
    "        matching_result = sorted(count_dic.items(), key=lambda item: item[1], reverse=True)\n",
    "        if len(matching_result) > 1:\n",
    "            new_df = new_df.append({CODE: int(row[CODE]),\n",
    "                                   'top1_community':matching_result[0][0],\n",
    "                                    'top2_community':matching_result[1][0],\n",
    "                                    'top1_community_rate':matching_result[0][1],\n",
    "                                    'top2_community_rate':matching_result[1][1],\n",
    "                                   }, ignore_index=True)\n",
    "        else:\n",
    "            new_df = new_df.append({CODE: int(row[CODE]),\n",
    "                                   'top1_community':matching_result[0][0],\n",
    "                                    'top2_community':'',\n",
    "                                    'top1_community_rate':matching_result[0][1],\n",
    "                                    'top2_community_rate':0,\n",
    "                                   }, ignore_index=True)\n",
    "    return new_df"
   ]
  },
  {
   "cell_type": "code",
   "execution_count": 9,
   "metadata": {},
   "outputs": [
    {
     "name": "stderr",
     "output_type": "stream",
     "text": [
      "/Users/jihoonwoo/opt/anaconda3/lib/python3.8/site-packages/pandas/core/indexing.py:671: SettingWithCopyWarning: \n",
      "A value is trying to be set on a copy of a slice from a DataFrame\n",
      "\n",
      "See the caveats in the documentation: https://pandas.pydata.org/pandas-docs/stable/user_guide/indexing.html#returning-a-view-versus-a-copy\n",
      "  self._setitem_with_indexer(indexer, value)\n"
     ]
    },
    {
     "name": "stdout",
     "output_type": "stream",
     "text": [
      "Applyig 0 kmeans with 0:00:23.513353 second proceeding times\n"
     ]
    },
    {
     "name": "stderr",
     "output_type": "stream",
     "text": [
      "/Users/jihoonwoo/opt/anaconda3/lib/python3.8/site-packages/pandas/core/indexing.py:671: SettingWithCopyWarning: \n",
      "A value is trying to be set on a copy of a slice from a DataFrame\n",
      "\n",
      "See the caveats in the documentation: https://pandas.pydata.org/pandas-docs/stable/user_guide/indexing.html#returning-a-view-versus-a-copy\n",
      "  self._setitem_with_indexer(indexer, value)\n",
      "/Users/jihoonwoo/opt/anaconda3/lib/python3.8/site-packages/pandas/core/indexing.py:671: SettingWithCopyWarning: \n",
      "A value is trying to be set on a copy of a slice from a DataFrame\n",
      "\n",
      "See the caveats in the documentation: https://pandas.pydata.org/pandas-docs/stable/user_guide/indexing.html#returning-a-view-versus-a-copy\n",
      "  self._setitem_with_indexer(indexer, value)\n",
      "/Users/jihoonwoo/opt/anaconda3/lib/python3.8/site-packages/pandas/core/indexing.py:671: SettingWithCopyWarning: \n",
      "A value is trying to be set on a copy of a slice from a DataFrame\n",
      "\n",
      "See the caveats in the documentation: https://pandas.pydata.org/pandas-docs/stable/user_guide/indexing.html#returning-a-view-versus-a-copy\n",
      "  self._setitem_with_indexer(indexer, value)\n",
      "/Users/jihoonwoo/opt/anaconda3/lib/python3.8/site-packages/pandas/core/indexing.py:671: SettingWithCopyWarning: \n",
      "A value is trying to be set on a copy of a slice from a DataFrame\n",
      "\n",
      "See the caveats in the documentation: https://pandas.pydata.org/pandas-docs/stable/user_guide/indexing.html#returning-a-view-versus-a-copy\n",
      "  self._setitem_with_indexer(indexer, value)\n"
     ]
    }
   ],
   "source": [
    "clustering_result_df = running_kmeans(kmeans_cluster_no, kmeans_ini_status, pca_df, iter_num, df, ref_df)\n",
    "updated_clustering_result_df = find_top_matched_communities(clustering_result_df)\n",
    "result_df = pd.merge(df, updated_clustering_result_df, on=CODE)"
   ]
  },
  {
   "cell_type": "markdown",
   "metadata": {},
   "source": [
    "# Aggregate columns\n",
    "\n",
    "After we get clustering results, we aggregate some variables(columns) to improve our analysability on clustered census data (Australia Community). "
   ]
  },
  {
   "cell_type": "code",
   "execution_count": 20,
   "metadata": {},
   "outputs": [],
   "source": [
    "def aggregate_columns(aggregate_df, df):\n",
    "    copied_df = df.copy()\n",
    "    row = 0\n",
    "    for columns in aggregate_df['columns_to_aggregate']:\n",
    "        total_n = 0\n",
    "        for col in columns.split(','):\n",
    "            total_n += copied_df[col]\n",
    "            # drop column\n",
    "            copied_df.drop(columns=[col], inplace=True)\n",
    "        copied_df[aggregate_df['aggregated_column'][row]]  = total_n\n",
    "        row += 1\n",
    "    return copied_df"
   ]
  },
  {
   "cell_type": "code",
   "execution_count": 21,
   "metadata": {},
   "outputs": [],
   "source": [
    "aggregated_df = aggregate_columns(aggregate_df, result_df)"
   ]
  },
  {
   "cell_type": "markdown",
   "metadata": {},
   "source": [
    "### Change 'Remote' to 'Remote or Disadvantaged'"
   ]
  },
  {
   "cell_type": "code",
   "execution_count": 22,
   "metadata": {},
   "outputs": [],
   "source": [
    "for index, row in aggregated_df.iterrows():\n",
    "    if row['top1_community'] == 'Remote':\n",
    "        aggregated_df['top1_community'].iloc[index] = 'Remote or Disadvantaged'\n",
    "    elif row['top2_community'] == 'Remote':\n",
    "        aggregated_df['top2_community'].iloc[index] = 'Remote or Disadvantaged'"
   ]
  },
  {
   "cell_type": "code",
   "execution_count": 25,
   "metadata": {},
   "outputs": [],
   "source": [
    "aggregated_df.to_csv('{}.csv'.format(output_file), sep=',', encoding='utf-8', index=False)"
   ]
  }
 ],
 "metadata": {
  "kernelspec": {
   "display_name": "Python 3",
   "language": "python",
   "name": "python3"
  },
  "language_info": {
   "codemirror_mode": {
    "name": "ipython",
    "version": 3
   },
   "file_extension": ".py",
   "mimetype": "text/x-python",
   "name": "python",
   "nbconvert_exporter": "python",
   "pygments_lexer": "ipython3",
   "version": "3.8.3"
  },
  "toc": {
   "base_numbering": 1,
   "nav_menu": {},
   "number_sections": true,
   "sideBar": true,
   "skip_h1_title": false,
   "title_cell": "Table of Contents",
   "title_sidebar": "Contents",
   "toc_cell": false,
   "toc_position": {},
   "toc_section_display": true,
   "toc_window_display": true
  }
 },
 "nbformat": 4,
 "nbformat_minor": 4
}
