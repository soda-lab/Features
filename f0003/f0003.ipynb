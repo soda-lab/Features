{
 "cells": [
  {
   "cell_type": "code",
   "execution_count": null,
   "metadata": {},
   "outputs": [],
   "source": [
    "import pandas as pd\n",
    "import numpy as np\n",
    "import glob\n",
    "import os\n",
    "import re\n",
    "import configparser \n",
    "\n",
    "config = configparser.ConfigParser()\n",
    "config.read('config.ini')\n",
    "input_folder = config['DEFAULT']['Input-Folder']\n",
    "out_folder = config['DEFAULT']['output-Folder']\n",
    "lan = config['DEFAULT']['Language']\n",
    "delete_none = config['DEFAULT']['Delete-None']\n"
   ]
  },
  {
   "cell_type": "code",
   "execution_count": null,
   "metadata": {},
   "outputs": [],
   "source": [
    "# create folder if not exist\n",
    "def create_folder(folder):\n",
    "    if not os.path.exists(folder):\n",
    "        os.makedirs(folder)\n",
    "    return folder"
   ]
  },
  {
   "cell_type": "code",
   "execution_count": null,
   "metadata": {},
   "outputs": [],
   "source": [
    "# create a list of existed collection from the folder\n",
    "def get_collection(folder):\n",
    "    list_collection = []\n",
    "    for input_file in glob.glob(os.path.join(folder,'*.csv')):\n",
    "        collection_name = re.search('output/(.+?)_grouped', input_file).group(1)\n",
    "        list_collection.append(collection_name)\n",
    "    return list_collection"
   ]
  },
  {
   "cell_type": "code",
   "execution_count": null,
   "metadata": {},
   "outputs": [],
   "source": [
    "# filter rows with non-English word\n",
    "def filter_row_lan(df): \n",
    "    # if language is English\n",
    "    if lan == \"1\":   \n",
    "        df = df[df[\"hashtag\"].str.contains(\"^[a-zA-Z0-9]*$\",na=False)]\n",
    "        df = df[df[\"user_location\"].str.contains(\"^[a-zA-Z0-9]*$\",na=False)]\n",
    "    # if there is no filter\n",
    "    elif lan == \"2\":\n",
    "        pass\n",
    "    #if language is other than English\n",
    "    elif lan == \"3\":\n",
    "        df = df[~df[\"hashtag\"].str.contains(\"^[a-zA-Z0-9]*$\",na=False)] \n",
    "        df = df[~df[\"user_location\"].str.contains(\"^[a-zA-Z0-9]*$\",na=False)]\n",
    "    return df"
   ]
  },
  {
   "cell_type": "code",
   "execution_count": null,
   "metadata": {},
   "outputs": [],
   "source": [
    "# filter rows with none value\n",
    "def filter_row_none(df):\n",
    "    # delete all rows with none value\n",
    "    if delete_none == \"1\":\n",
    "        df = df[df[\"hashtag\"] != \"None\"]\n",
    "        df = df[df[\"user_location\"] != \"None\"]\n",
    "    # do not delete rows with none value\n",
    "    elif delete_none == \"2\":\n",
    "        pass\n",
    "    return df"
   ]
  },
  {
   "cell_type": "code",
   "execution_count": null,
   "metadata": {},
   "outputs": [],
   "source": [
    "# get folder for file_reader\n",
    "input_path = create_folder(input_folder)\n",
    "out_path = create_folder(out_folder)\n",
    "\n",
    "#get lists of collection\n",
    "list_collection = get_collection(out_path)\n",
    "\n",
    "# read all csv files from the dictionary\n",
    "for input_file in glob.glob(os.path.join(input_path,'*.csv')):\n",
    "    \n",
    "    print(\"-----------------\")\n",
    "    \n",
    "    collection_name = re.search('output/(.+?)_hashtag', input_file).group(1)\n",
    "    \n",
    "    if collection_name in list_collection:\n",
    "        print(\"existing file: \" + input_file)\n",
    "        \n",
    "    else:\n",
    "        print(\"processing on the file: \" + input_file)\n",
    "        \n",
    "        # read csv file \n",
    "        df = pd.read_csv(input_file,',',lineterminator='\\n')\n",
    "        total_row = df.hashtag.count().item()\n",
    "            \n",
    "        # delete rows with non-english word\n",
    "        df = filter_row_lan(df)\n",
    "        row_fil_eng = df.hashtag.count().item()\n",
    "            \n",
    "        # delete rows with \"none\" value\n",
    "        df = filter_row_none(df)\n",
    "        row_fil_none = df.hashtag.count().item()\n",
    "        \n",
    "        del_row = total_row - row_fil_none\n",
    "        \n",
    "        print(\"Total number of rows: \" + str(total_row))\n",
    "        print(\"The number of rows deleted: \" + str(del_row))\n",
    "        \n",
    "\n",
    "        # convert the data typr to string to avoid lossing data after group\n",
    "        df['hashtag'] = df.hashtag.astype(str)\n",
    "        df['user_location'] = df.user_location.astype(str)\n",
    "\n",
    "        group_df = df.groupby(['hashtag','user_location']).size().reset_index(name='count')\n",
    "\n",
    "        file_name = out_folder + collection_name + '_grouped.csv'\n",
    "        group_df.to_csv(file_name, sep=',',index = False)\n",
    "\n",
    "        print(file_name + \" is done.\")\n",
    "    print(\"-----------------\")"
   ]
  },
  {
   "cell_type": "code",
   "execution_count": null,
   "metadata": {},
   "outputs": [],
   "source": []
  }
 ],
 "metadata": {
  "kernelspec": {
   "display_name": "Python 3",
   "language": "python",
   "name": "python3"
  },
  "language_info": {
   "codemirror_mode": {
    "name": "ipython",
    "version": 3
   },
   "file_extension": ".py",
   "mimetype": "text/x-python",
   "name": "python",
   "nbconvert_exporter": "python",
   "pygments_lexer": "ipython3",
   "version": "3.6.4"
  }
 },
 "nbformat": 4,
 "nbformat_minor": 2
}
