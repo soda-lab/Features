{
 "cells": [
  {
   "cell_type": "markdown",
   "metadata": {},
   "source": [
    "## Import Libraries"
   ]
  },
  {
   "cell_type": "code",
   "execution_count": 1,
   "metadata": {},
   "outputs": [],
   "source": [
    "import pandas as pd\n",
    "import glob\n",
    "import os"
   ]
  },
  {
   "cell_type": "markdown",
   "metadata": {},
   "source": [
    "## Read Config File"
   ]
  },
  {
   "cell_type": "code",
   "execution_count": null,
   "metadata": {},
   "outputs": [],
   "source": [
    "import configparser\n",
    "config = configparser.ConfigParser()\n",
    "config.read('config.ini')\n",
    "geo_aus_file = config['DEFAULT']['Geo-Aus-File']\n",
    "geo_world_file = config['DEFAULT']['Geo-World-File']\n",
    "input_folder = config['DEFAULT']['Input-Folder']\n",
    "output_folder = config['DEFAULT']['Output-Folder']"
   ]
  },
  {
   "cell_type": "markdown",
   "metadata": {},
   "source": [
    "## Read Geoname"
   ]
  },
  {
   "cell_type": "code",
   "execution_count": null,
   "metadata": {},
   "outputs": [],
   "source": [
    "geo_aus_ulocation = set()\n",
    "for chunk in pd.read_csv(geo_aus_file, chunksize=400000, header = 0, encoding = \"UTF-8\",usecols=[0],engine='python'):\n",
    "    geo_aus_ulocation = geo_aus_ulocation.union(set(chunk[\"user_location\"].tolist()))"
   ]
  },
  {
   "cell_type": "code",
   "execution_count": null,
   "metadata": {},
   "outputs": [],
   "source": [
    "geo_world_ulocation = set()\n",
    "for chunk in pd.read_csv(geo_world_file, chunksize=400000, header = 0, encoding = \"UTF-8\",usecols=[0],engine='python'):\n",
    "    geo_world_ulocation = geo_world_ulocation.union(set(chunk[\"user_location\"].tolist()))"
   ]
  },
  {
   "cell_type": "markdown",
   "metadata": {},
   "source": [
    "## Supporting Functions"
   ]
  },
  {
   "cell_type": "code",
   "execution_count": null,
   "metadata": {},
   "outputs": [],
   "source": [
    "def get_new_user_location(user_location, geo_user_location):\n",
    "    new_uer_location = []\n",
    "    for uloc in user_location:\n",
    "        if uloc not in geo_user_location:\n",
    "            new_uer_location.append(uloc)\n",
    "    return new_uer_location"
   ]
  },
  {
   "cell_type": "code",
   "execution_count": null,
   "metadata": {},
   "outputs": [],
   "source": [
    "# create folder if not exist\n",
    "def create_folder(folder):\n",
    "    if not os.path.exists(folder):\n",
    "        os.makedirs(folder)"
   ]
  },
  {
   "cell_type": "markdown",
   "metadata": {},
   "source": [
    "## Main Function"
   ]
  },
  {
   "cell_type": "code",
   "execution_count": 3,
   "metadata": {},
   "outputs": [],
   "source": [
    "# create output folder if not exist\n",
    "create_folder(output_folder)\n",
    "\n",
    "for file in glob.glob(input_folder + \"/*.csv\"):\n",
    "    # Read user location\n",
    "    collection = pd.read_csv(file, header=0, encoding=\"UTF-8\",lineterminator='\\n')\n",
    "    user_location = collection[\"user_location\"].tolist()\n",
    "    \n",
    "    # get new user_location\n",
    "    if \"Australia\" in file:\n",
    "        new_uer_location = get_new_user_location(user_location, geo_aus_ulocation)\n",
    "        country = \"Australia\"\n",
    "    else:\n",
    "        new_uer_location = get_new_user_location(user_location, geo_world_ulocation)\n",
    "        country = \"Other\"\n",
    "            \n",
    "    # write into CSV\n",
    "    df_output = pd.DataFrame(new_uer_location,columns=['user_location'])\n",
    "    df_output.to_csv(\"{}/new_user_location_{}.csv\".format(output_folder,country), sep=',',index = False, encoding='UTF-8')\n",
    "    "
   ]
  }
 ],
 "metadata": {
  "kernelspec": {
   "display_name": "Python 3",
   "language": "python",
   "name": "python3"
  },
  "language_info": {
   "codemirror_mode": {
    "name": "ipython",
    "version": 3
   },
   "file_extension": ".py",
   "mimetype": "text/x-python",
   "name": "python",
   "nbconvert_exporter": "python",
   "pygments_lexer": "ipython3",
   "version": "3.6.6"
  },
  "toc": {
   "base_numbering": 1,
   "nav_menu": {},
   "number_sections": true,
   "sideBar": true,
   "skip_h1_title": false,
   "title_cell": "Table of Contents",
   "title_sidebar": "Contents",
   "toc_cell": false,
   "toc_position": {},
   "toc_section_display": true,
   "toc_window_display": false
  },
  "varInspector": {
   "cols": {
    "lenName": 16,
    "lenType": 16,
    "lenVar": 40
   },
   "kernels_config": {
    "python": {
     "delete_cmd_postfix": "",
     "delete_cmd_prefix": "del ",
     "library": "var_list.py",
     "varRefreshCmd": "print(var_dic_list())"
    },
    "r": {
     "delete_cmd_postfix": ") ",
     "delete_cmd_prefix": "rm(",
     "library": "var_list.r",
     "varRefreshCmd": "cat(var_dic_list()) "
    }
   },
   "types_to_exclude": [
    "module",
    "function",
    "builtin_function_or_method",
    "instance",
    "_Feature"
   ],
   "window_display": false
  }
 },
 "nbformat": 4,
 "nbformat_minor": 2
}
