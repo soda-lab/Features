{
 "cells": [
  {
   "cell_type": "markdown",
   "metadata": {},
   "source": [
    "## Import Libraries"
   ]
  },
  {
   "cell_type": "code",
   "execution_count": null,
   "metadata": {},
   "outputs": [],
   "source": [
    "import xml.etree.ElementTree as ET\n",
    "import pandas as pd\n",
    "from collections import OrderedDict"
   ]
  },
  {
   "cell_type": "markdown",
   "metadata": {},
   "source": [
    "## Read Config File"
   ]
  },
  {
   "cell_type": "code",
   "execution_count": null,
   "metadata": {},
   "outputs": [],
   "source": [
    "import configparser\n",
    "config = configparser.ConfigParser()\n",
    "config.read('config.ini')\n",
    "input_file = config['DEFAULT']['Input-File']\n",
    "output_file = config['DEFAULT']['Output-File']"
   ]
  },
  {
   "cell_type": "markdown",
   "metadata": {},
   "source": [
    "## Read XML"
   ]
  },
  {
   "cell_type": "code",
   "execution_count": null,
   "metadata": {},
   "outputs": [],
   "source": [
    "tree = ET.parse(input_file)\n",
    "root = tree.getroot()"
   ]
  },
  {
   "cell_type": "markdown",
   "metadata": {},
   "source": [
    "## Get the Number of Records"
   ]
  },
  {
   "cell_type": "code",
   "execution_count": null,
   "metadata": {},
   "outputs": [],
   "source": [
    "for rs in root.findall('records'):\n",
    "    l = len(rs.findall(\"record\"))"
   ]
  },
  {
   "cell_type": "markdown",
   "metadata": {},
   "source": [
    "## Initialize Lists"
   ]
  },
  {
   "cell_type": "code",
   "execution_count": null,
   "metadata": {},
   "outputs": [],
   "source": [
    "database_list = [None] * l\n",
    "subsidiary_authors_list = [None] * l\n",
    "title_list = [None] * l\n",
    "keyword_list = [None] * l\n",
    "publisher_list = [None] * l\n",
    "access_date_list = [None] * l\n",
    "related_url_list = [None] * l\n",
    "pub_location_list = [None] * l\n",
    "pub_dates_list = [None] * l\n",
    "abstract_list = [None] * l\n",
    "notes_list = [None] * l\n",
    "doi_list = [None] * l\n",
    "custom1_list = [None] * l\n",
    "custom2_list = [None] * l\n",
    "custom3_list = [None] * l\n",
    "custom4_list = [None] * l\n",
    "custom5_list = [None] * l"
   ]
  },
  {
   "cell_type": "markdown",
   "metadata": {},
   "source": [
    "## Get Value From XML"
   ]
  },
  {
   "cell_type": "code",
   "execution_count": null,
   "metadata": {},
   "outputs": [],
   "source": [
    "i = 0\n",
    "for rs in root.findall(\"records\"):\n",
    "    for r in rs.findall(\"record\"):    \n",
    "        # database\n",
    "        database = getattr(r.find(\"database\"),'text','')\n",
    "        database_list[i] = database \n",
    "        \n",
    "        # subsidiary-authors\n",
    "        for cs in r.findall(\"contributors\"):\n",
    "            for sa in cs.findall(\"subsidiary-authors\"):\n",
    "                for a in sa.findall(\"author\"):\n",
    "                    subsidiary_authors = getattr(a.find(\"style\"),'text','')\n",
    "                    subsidiary_authors_list[i] = subsidiary_authors \n",
    "                    \n",
    "        \n",
    "        # title\n",
    "        for ts in r.findall(\"titles\"):  \n",
    "            for t in ts.findall(\"title\"):\n",
    "                title = getattr(t.find(\"style\"),'text','')\n",
    "                title_list[i] = title \n",
    "\n",
    "        # keywords\n",
    "        keyword = \"\"\n",
    "        for ks in r.findall(\"keywords\"):\n",
    "            for k in ks.findall(\"keyword\"):\n",
    "                if len(ks.findall(\"keyword\")) <= 1:\n",
    "                    keyword = getattr(k.find(\"style\"),'text','')\n",
    "                else:\n",
    "                    if keyword == \"\":\n",
    "                        keyword = getattr(k.find(\"style\"),'text','')\n",
    "                    else:\n",
    "                        keyword = keyword + \", \" + getattr(k.find(\"style\"),'text','') \n",
    "                keyword_list[i] = keyword  \n",
    "\n",
    "        # publisher\n",
    "        for p in r.findall(\"publisher\"):\n",
    "            publisher = getattr(p.find(\"style\"),'text','')\n",
    "            publisher_list[i] = publisher\n",
    "                \n",
    "        # access-date\n",
    "        for ad in r.findall(\"access-date\"):\n",
    "            access_date = getattr(ad.find(\"style\"),'text','')\n",
    "            access_date_list[i] = access_date\n",
    "\n",
    "        # pub-location\n",
    "        for pl in r.findall(\"pub-location\"):\n",
    "            pub_location = getattr(pl.find(\"style\"),'text','')\n",
    "            pub_location_list[i] = pub_location\n",
    "\n",
    "        # pub-dates\n",
    "        for ds in r.findall(\"dates\"):\n",
    "            for pds in ds.findall(\"pub-dates\"):\n",
    "                for d in pds.findall(\"date\"):\n",
    "                    pub_dates = getattr(d.find(\"style\"),'text','')\n",
    "                    pub_dates_list[i] = pub_dates\n",
    "                    \n",
    "        # abstract\n",
    "        for a in r.findall(\"abstract\"):\n",
    "            abstract = getattr(a.find(\"style\"),'text','')\n",
    "            abstract_list[i] = abstract\n",
    "            \n",
    "        # notes\n",
    "        for ns in r.findall(\"notes\"):\n",
    "            notes = getattr(ns.find(\"style\"),'text','')\n",
    "            notes_list[i] = notes\n",
    "            \n",
    "        # DOI(electronic-resource-num)\n",
    "        for ern in r.findall(\"electronic-resource-num\"):\n",
    "            doi = getattr(ern.find(\"style\"),'text','')\n",
    "            doi_list[i] = doi\n",
    "            \n",
    "        # custom 1 (benefit)\n",
    "        for c1 in r.findall(\"custom1\"):\n",
    "            custom1 = getattr(c1.find(\"style\"),'text','')\n",
    "            custom1_list[i] = custom1\n",
    "\n",
    "        # custom 2 (method)\n",
    "        for c2 in r.findall(\"custom2\"):\n",
    "            custom2 = getattr(c2.find(\"style\"),'text','')\n",
    "            custom2_list[i] = custom2\n",
    "            \n",
    "        # custom 3 (source type)\n",
    "        for c3 in r.findall(\"custom3\"):\n",
    "            custom3 = getattr(c3.find(\"style\"),'text','')\n",
    "            custom3_list[i] = custom3  \n",
    "            \n",
    "        # custom 4 (coverage)\n",
    "        for c4 in r.findall(\"custom4\"):\n",
    "            custom4 = getattr(c4.find(\"style\"),'text','')\n",
    "            custom4_list[i] = custom4 \n",
    "\n",
    "        # custom 5 (Yes Maybe No)\n",
    "        for c5 in r.findall(\"custom5\"):\n",
    "            custom5 = getattr(c5.find(\"style\"),'text','')\n",
    "            custom5_list[i] = custom5\n",
    "        \n",
    "        i += 1"
   ]
  },
  {
   "cell_type": "markdown",
   "metadata": {},
   "source": [
    "## Supporting Functions"
   ]
  },
  {
   "cell_type": "code",
   "execution_count": null,
   "metadata": {},
   "outputs": [],
   "source": [
    "def replace_special_character(column_list,replace_string):\n",
    "    for i in range(0,len(column_list)):\n",
    "        if column_list[i] is not None:\n",
    "            new = column_list[i].replace('\\r', replace_string)\n",
    "            column_list[i] = new\n",
    "    return column_list"
   ]
  },
  {
   "cell_type": "markdown",
   "metadata": {},
   "source": [
    "## Replace Special Characters"
   ]
  },
  {
   "cell_type": "code",
   "execution_count": null,
   "metadata": {},
   "outputs": [],
   "source": [
    "title_list = replace_special_character(title_list,' ')\n",
    "abstract_list = replace_special_character(abstract_list,' ')\n",
    "notes_list = replace_special_character(notes_list,' ')\n",
    "custom1_list = replace_special_character(custom1_list,', ')\n",
    "custom2_list = replace_special_character(custom2_list,', ')\n",
    "custom3_list = replace_special_character(custom3_list,', ')\n",
    "custom4_list = replace_special_character(custom4_list,'')"
   ]
  },
  {
   "cell_type": "markdown",
   "metadata": {},
   "source": [
    "## Write Into CSV"
   ]
  },
  {
   "cell_type": "code",
   "execution_count": null,
   "metadata": {},
   "outputs": [],
   "source": [
    "d = {'database':database_list,'title':title_list,'subsidiary_authors':subsidiary_authors_list, \\\n",
    "     'keywords':keyword_list,'abstract':abstract_list,'notes':notes_list,'DOI':doi_list,'publisher':publisher_list, \\\n",
    "     'access_date':access_date_list,'related_url':related_url_list,'pub_location':pub_location_list, \\\n",
    "     'pub_dates':pub_dates_list,'1.benefit':custom1_list, '2.method':custom2_list, \\\n",
    "    '3.source type':custom3_list,'4.coverage':custom4_list,'5.yes maybe no':custom5_list}"
   ]
  },
  {
   "cell_type": "code",
   "execution_count": null,
   "metadata": {},
   "outputs": [],
   "source": [
    "df = pd.DataFrame(OrderedDict(d))"
   ]
  },
  {
   "cell_type": "code",
   "execution_count": null,
   "metadata": {},
   "outputs": [],
   "source": [
    "df.to_csv(output_file,index = False, encoding='UTF-8')"
   ]
  },
  {
   "cell_type": "code",
   "execution_count": null,
   "metadata": {},
   "outputs": [],
   "source": []
  }
 ],
 "metadata": {
  "kernelspec": {
   "display_name": "Python 3",
   "language": "python",
   "name": "python3"
  },
  "language_info": {
   "codemirror_mode": {
    "name": "ipython",
    "version": 3
   },
   "file_extension": ".py",
   "mimetype": "text/x-python",
   "name": "python",
   "nbconvert_exporter": "python",
   "pygments_lexer": "ipython3",
   "version": "3.6.4"
  }
 },
 "nbformat": 4,
 "nbformat_minor": 2
}
