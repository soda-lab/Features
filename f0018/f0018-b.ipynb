{
 "cells": [
  {
   "cell_type": "markdown",
   "metadata": {},
   "source": [
    "## Import Libraries"
   ]
  },
  {
   "cell_type": "code",
   "execution_count": null,
   "metadata": {},
   "outputs": [],
   "source": [
    "import os\n",
    "import glob\n",
    "import pandas as pd"
   ]
  },
  {
   "cell_type": "markdown",
   "metadata": {},
   "source": [
    "## Read Config File"
   ]
  },
  {
   "cell_type": "code",
   "execution_count": null,
   "metadata": {},
   "outputs": [],
   "source": [
    "import configparser\n",
    "config = configparser.ConfigParser()\n",
    "config.read('config.ini')\n",
    "input_folder = config['DEFAULT']['Input-Folder']\n",
    "input_file = config['DEFAULT']['Input-File']\n",
    "output_file = config['DEFAULT']['Output-File']"
   ]
  },
  {
   "cell_type": "markdown",
   "metadata": {},
   "source": [
    "## Get Files"
   ]
  },
  {
   "cell_type": "code",
   "execution_count": 1,
   "metadata": {},
   "outputs": [],
   "source": [
    "extension = 'csv'\n",
    "result = glob.glob('{}*.{}'.format(input_folder,extension))"
   ]
  },
  {
   "cell_type": "markdown",
   "metadata": {},
   "source": [
    "## Add Columns (Week-Num && Collection-Country)"
   ]
  },
  {
   "cell_type": "code",
   "execution_count": 2,
   "metadata": {},
   "outputs": [],
   "source": [
    "for file in sorted(result):\n",
    "    df = pd.read_csv(file,header=0, encoding=\"UTF-8\")\n",
    "    \n",
    "    # get year_week\n",
    "    y_week = \"_\".join(file.split(\"_\", 2)[:2])\n",
    "    week = y_week.split(\"_W\")[1]\n",
    "    if len(week) == 1:\n",
    "        week = \"0\"+week\n",
    "    year_week = y_week[:6] + week\n",
    "    \n",
    "    # get collection_country\n",
    "    collection_country = \"_\".join(file.split(\"_\", 2)[2:])\n",
    "    collection_country = collection_country.split(\"Twitter_\")[1][:-4]\n",
    "    \n",
    "    # add columns\n",
    "    df[\"year-week\"] = year_week\n",
    "    df[\"collection_country\"] = collection_country\n",
    "    \n",
    "    # write into csv\n",
    "    df.to_csv('/Users/apple/Desktop/newHashtag/'+file, sep=',',index = False, encoding='UTF-8')"
   ]
  },
  {
   "cell_type": "code",
   "execution_count": null,
   "metadata": {},
   "outputs": [],
   "source": []
  }
 ],
 "metadata": {
  "kernelspec": {
   "display_name": "Python 3",
   "language": "python",
   "name": "python3"
  },
  "language_info": {
   "codemirror_mode": {
    "name": "ipython",
    "version": 3
   },
   "file_extension": ".py",
   "mimetype": "text/x-python",
   "name": "python",
   "nbconvert_exporter": "python",
   "pygments_lexer": "ipython3",
   "version": "3.6.4"
  }
 },
 "nbformat": 4,
 "nbformat_minor": 2
}
