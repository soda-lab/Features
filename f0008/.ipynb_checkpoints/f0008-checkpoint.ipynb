{
 "cells": [
  {
   "cell_type": "code",
   "execution_count": 1,
   "metadata": {},
   "outputs": [
    {
     "ename": "KeyError",
     "evalue": "'IP'",
     "output_type": "error",
     "traceback": [
      "\u001b[0;31m---------------------------------------------------------------------------\u001b[0m",
      "\u001b[0;31mKeyError\u001b[0m                                  Traceback (most recent call last)",
      "\u001b[0;32m<ipython-input-1-5acd1da64f93>\u001b[0m in \u001b[0;36m<module>\u001b[0;34m()\u001b[0m\n\u001b[1;32m      9\u001b[0m \u001b[0mconfig\u001b[0m \u001b[0;34m=\u001b[0m \u001b[0mconfigparser\u001b[0m\u001b[0;34m.\u001b[0m\u001b[0mConfigParser\u001b[0m\u001b[0;34m(\u001b[0m\u001b[0;34m)\u001b[0m\u001b[0;34m\u001b[0m\u001b[0m\n\u001b[1;32m     10\u001b[0m \u001b[0mconfig\u001b[0m\u001b[0;34m.\u001b[0m\u001b[0mread\u001b[0m\u001b[0;34m(\u001b[0m\u001b[0;34m'config.ini'\u001b[0m\u001b[0;34m)\u001b[0m\u001b[0;34m\u001b[0m\u001b[0m\n\u001b[0;32m---> 11\u001b[0;31m \u001b[0mip\u001b[0m \u001b[0;34m=\u001b[0m \u001b[0mconfig\u001b[0m\u001b[0;34m[\u001b[0m\u001b[0;34m'DEFAULT'\u001b[0m\u001b[0;34m]\u001b[0m\u001b[0;34m[\u001b[0m\u001b[0;34m'IP'\u001b[0m\u001b[0;34m]\u001b[0m\u001b[0;34m\u001b[0m\u001b[0m\n\u001b[0m\u001b[1;32m     12\u001b[0m \u001b[0mport\u001b[0m \u001b[0;34m=\u001b[0m \u001b[0mconfig\u001b[0m\u001b[0;34m[\u001b[0m\u001b[0;34m'DEFAULT'\u001b[0m\u001b[0;34m]\u001b[0m\u001b[0;34m[\u001b[0m\u001b[0;34m'MongoDB-Port'\u001b[0m\u001b[0;34m]\u001b[0m\u001b[0;34m\u001b[0m\u001b[0m\n\u001b[1;32m     13\u001b[0m \u001b[0mslack_token\u001b[0m \u001b[0;34m=\u001b[0m \u001b[0mconfig\u001b[0m\u001b[0;34m[\u001b[0m\u001b[0;34m'DEFAULT'\u001b[0m\u001b[0;34m]\u001b[0m\u001b[0;34m[\u001b[0m\u001b[0;34m'Slack-Token'\u001b[0m\u001b[0;34m]\u001b[0m\u001b[0;34m\u001b[0m\u001b[0m\n",
      "\u001b[0;32m~/anaconda3/lib/python3.6/configparser.py\u001b[0m in \u001b[0;36m__getitem__\u001b[0;34m(self, key)\u001b[0m\n\u001b[1;32m   1231\u001b[0m     \u001b[0;32mdef\u001b[0m \u001b[0m__getitem__\u001b[0m\u001b[0;34m(\u001b[0m\u001b[0mself\u001b[0m\u001b[0;34m,\u001b[0m \u001b[0mkey\u001b[0m\u001b[0;34m)\u001b[0m\u001b[0;34m:\u001b[0m\u001b[0;34m\u001b[0m\u001b[0m\n\u001b[1;32m   1232\u001b[0m         \u001b[0;32mif\u001b[0m \u001b[0;32mnot\u001b[0m \u001b[0mself\u001b[0m\u001b[0;34m.\u001b[0m\u001b[0m_parser\u001b[0m\u001b[0;34m.\u001b[0m\u001b[0mhas_option\u001b[0m\u001b[0;34m(\u001b[0m\u001b[0mself\u001b[0m\u001b[0;34m.\u001b[0m\u001b[0m_name\u001b[0m\u001b[0;34m,\u001b[0m \u001b[0mkey\u001b[0m\u001b[0;34m)\u001b[0m\u001b[0;34m:\u001b[0m\u001b[0;34m\u001b[0m\u001b[0m\n\u001b[0;32m-> 1233\u001b[0;31m             \u001b[0;32mraise\u001b[0m \u001b[0mKeyError\u001b[0m\u001b[0;34m(\u001b[0m\u001b[0mkey\u001b[0m\u001b[0;34m)\u001b[0m\u001b[0;34m\u001b[0m\u001b[0m\n\u001b[0m\u001b[1;32m   1234\u001b[0m         \u001b[0;32mreturn\u001b[0m \u001b[0mself\u001b[0m\u001b[0;34m.\u001b[0m\u001b[0m_parser\u001b[0m\u001b[0;34m.\u001b[0m\u001b[0mget\u001b[0m\u001b[0;34m(\u001b[0m\u001b[0mself\u001b[0m\u001b[0;34m.\u001b[0m\u001b[0m_name\u001b[0m\u001b[0;34m,\u001b[0m \u001b[0mkey\u001b[0m\u001b[0;34m)\u001b[0m\u001b[0;34m\u001b[0m\u001b[0m\n\u001b[1;32m   1235\u001b[0m \u001b[0;34m\u001b[0m\u001b[0m\n",
      "\u001b[0;31mKeyError\u001b[0m: 'IP'"
     ]
    }
   ],
   "source": [
    "import warnings\n",
    "warnings.filterwarnings(\"ignore\", category=DeprecationWarning)\n",
    "\n",
    "import time\n",
    "import datetime\n",
    "import os\n",
    "import configparser \n",
    "\n",
    "config = configparser.ConfigParser()\n",
    "config.read('config.ini')\n",
    "ip = config['DEFAULT']['IP']\n",
    "port = config['DEFAULT']['MongoDB-Port']\n",
    "slack_token = config['DEFAULT']['Slack-Token']\n",
    "channel = config['DEFAULT']['Channel']\n",
    "file_path = config['DEFAULT']['File-Path']\n",
    "log_file_path = config['DEFAULT']['Log-File-Path']\n",
    "out_folder = config['DEFAULT']['Out-Folder']\n",
    "\n",
    "import pymongo\n",
    "from pymongo import MongoClient\n",
    "client = MongoClient(ip, int(port))\n",
    "\n",
    "from slacker import Slacker\n",
    "slack = Slacker(slack_token)"
   ]
  },
  {
   "cell_type": "code",
   "execution_count": null,
   "metadata": {},
   "outputs": [],
   "source": [
    "def connect_database(client,slack):\n",
    "    try:\n",
    "        # connect to database\n",
    "        db_twitter = client[\"Twitter\"]\n",
    "        collections_twitter = db_twitter.collection_names()\n",
    "    except Exception as e:\n",
    "        slack.chat.post_message(channel,str(e))\n",
    "        with open(log_file_path,\"a+\") as output_file:\n",
    "            output_file.write(\"---------------------------\"+\"\\n\")\n",
    "            output_file.write(str(datetime.datetime.now())+\"\\n\")\n",
    "            output_file.write(str(e) + \"\\n\")\n",
    "    return db_twitter, collections_twitter"
   ]
  },
  {
   "cell_type": "code",
   "execution_count": 2,
   "metadata": {},
   "outputs": [],
   "source": [
    "def current_year_week():\n",
    "    # get current year and current week number\n",
    "    current_timestamp = int(time.time() * 1000)\n",
    "    current_year = int(datetime.datetime.now().year)\n",
    "    print(\"current year : \" + str(current_year))\n",
    "\n",
    "    current_week = int((current_timestamp - 1546214400000)/1000/604800)+1\n",
    "    print(\"current week : \" + str(current_week))\n",
    "    return current_year, current_week"
   ]
  },
  {
   "cell_type": "code",
   "execution_count": 3,
   "metadata": {},
   "outputs": [],
   "source": [
    "# create foler if not exist\n",
    "def create_folder(folder):\n",
    "    if not os.path.exists(folder):\n",
    "        os.makedirs(folder)"
   ]
  },
  {
   "cell_type": "code",
   "execution_count": null,
   "metadata": {},
   "outputs": [],
   "source": [
    "def get_lastest_number(db_twitter,collections_twitter,current_year,current_week):\n",
    "    w = \"W\"+str(current_week)\n",
    "    dic_collection = {}\n",
    "    for i in collections_twitter:\n",
    "        if i.startswith(str(current_year)) and w in i:\n",
    "            dic_collection[i] = \"{:}\".format(db_twitter[i].find({}).count())\n",
    "    return dic_collection"
   ]
  },
  {
   "cell_type": "code",
   "execution_count": null,
   "metadata": {},
   "outputs": [],
   "source": [
    "def read_file(file_path):\n",
    "    with open(file_path,\"a+\") as input_file:\n",
    "        # back to first line\n",
    "        input_file.seek(0)\n",
    "        line = input_file.readlines()\n",
    "    return line"
   ]
  },
  {
   "cell_type": "code",
   "execution_count": null,
   "metadata": {},
   "outputs": [],
   "source": [
    "def get_old_number(line):\n",
    "    old_dic_collection = {}\n",
    "    for i in line:\n",
    "        i = i.replace(\"\\n\",\"\")\n",
    "        collection_name = i.split(\":\")[0]\n",
    "        document_number = i.split(\":\")[1]\n",
    "        old_dic_collection[collection_name] = \"{:}\".format(document_number)\n",
    "    return old_dic_collection"
   ]
  },
  {
   "cell_type": "code",
   "execution_count": null,
   "metadata": {},
   "outputs": [],
   "source": [
    "def send_msg_slack(dic_collection,old_dic_collection,slack):\n",
    "    for collection in dic_collection:\n",
    "        if collection in old_dic_collection:\n",
    "            if int(dic_collection[collection]) == int(old_dic_collection[collection]):  \n",
    "                # bold message\n",
    "                message = \"[\" + collection + \"] is the same last run: \" + '\\033[1m' + dic_collection[collection] + '\\033[0m'\n",
    "                slack.chat.post_message(channel,message)\n",
    "            elif int(dic_collection[collection]) < int(old_dic_collection[collection]):  \n",
    "                # bold message\n",
    "                message = \"[\" + collection + \"] is reduced last run: \" + '\\033[1m' + dic_collection[collection] + '\\033[0m'\n",
    "                slack.chat.post_message(channel,message)\n",
    "                "
   ]
  },
  {
   "cell_type": "code",
   "execution_count": null,
   "metadata": {},
   "outputs": [],
   "source": [
    "def write_file(dic_collection, file_path):\n",
    "    with open(file_path,\"w+\") as output_file:\n",
    "        for key in sorted(dic_collection): \n",
    "            output_file.write(\"%s: %s\" % (key, dic_collection[key])+\"\\n\") \n",
    "    print(\"The result file is ready.\")"
   ]
  },
  {
   "cell_type": "code",
   "execution_count": null,
   "metadata": {},
   "outputs": [],
   "source": [
    "def write_log_file(dic_collection, log_file_path):\n",
    "    with open(log_file_path,\"a+\") as output_file:\n",
    "        output_file.write(\"---------------------------\"+\"\\n\")\n",
    "        output_file.write(str(datetime.datetime.now())+\"\\n\")\n",
    "        for key in sorted(dic_collection): \n",
    "            output_file.write(\"%s: %s\" % (key, dic_collection[key])+\"\\n\") \n",
    "    print(\"The log file is ready.\")"
   ]
  },
  {
   "cell_type": "code",
   "execution_count": null,
   "metadata": {},
   "outputs": [],
   "source": [
    "create_folder(out_folder)\n",
    "\n",
    "try:\n",
    "    db_twitter, collections_twitter = connect_database(client,slack)\n",
    "except:\n",
    "    pass\n",
    "else:\n",
    "    current_year, current_week = current_year_week()\n",
    "\n",
    "    dic_collection = get_lastest_number(db_twitter,collections_twitter,current_year,current_week)\n",
    "\n",
    "    line = read_file(file_path)\n",
    "\n",
    "    old_dic_collection = get_old_number(line)\n",
    "\n",
    "    send_msg_slack(dic_collection,old_dic_collection,slack)\n",
    "\n",
    "    write_file(dic_collection, file_path)  \n",
    "    write_log_file(dic_collection, log_file_path)"
   ]
  },
  {
   "cell_type": "code",
   "execution_count": null,
   "metadata": {},
   "outputs": [],
   "source": []
  }
 ],
 "metadata": {
  "kernelspec": {
   "display_name": "Python 3",
   "language": "python",
   "name": "python3"
  },
  "language_info": {
   "codemirror_mode": {
    "name": "ipython",
    "version": 3
   },
   "file_extension": ".py",
   "mimetype": "text/x-python",
   "name": "python",
   "nbconvert_exporter": "python",
   "pygments_lexer": "ipython3",
   "version": "3.6.4"
  }
 },
 "nbformat": 4,
 "nbformat_minor": 2
}
