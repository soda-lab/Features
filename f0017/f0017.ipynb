{
 "cells": [
  {
   "cell_type": "markdown",
   "metadata": {},
   "source": [
    "## Import Libraries"
   ]
  },
  {
   "cell_type": "code",
   "execution_count": 1,
   "metadata": {},
   "outputs": [],
   "source": [
    "import csv\n",
    "import json\n",
    "import os\n",
    "import glob"
   ]
  },
  {
   "cell_type": "markdown",
   "metadata": {},
   "source": [
    "## Read Config File"
   ]
  },
  {
   "cell_type": "code",
   "execution_count": 2,
   "metadata": {},
   "outputs": [],
   "source": [
    "import configparser\n",
    "config = configparser.ConfigParser()\n",
    "config.read('config.ini')\n",
    "csvFolderPath = config['DEFAULT']['CSV-Folder-Path']\n",
    "start_string = config['DEFAULT']['Start-String']\n",
    "jsonFolderPath = config['DEFAULT']['JSON-Folder-Path']"
   ]
  },
  {
   "cell_type": "markdown",
   "metadata": {},
   "source": [
    "## Read CSV File into Array & Write into JSON Array"
   ]
  },
  {
   "cell_type": "code",
   "execution_count": 3,
   "metadata": {},
   "outputs": [],
   "source": [
    "os.chdir(csvFolderPath)\n",
    "for file in glob.glob(start_string + \"*.csv\"):\n",
    "    filename = os.path.splitext(file)[0]\n",
    "    \n",
    "    # Read CSV File into Array\n",
    "    arr = []\n",
    "    with open (file) as csvFile:\n",
    "        csvReader = csv.DictReader(csvFile)\n",
    "        for csvRow in csvReader:\n",
    "            arr.append(csvRow)\n",
    "    \n",
    "    # Write into JSON Array\n",
    "    jsonFilePath = \"{}/{}.json\".format(jsonFolderPath,filename)\n",
    "    with open(jsonFilePath, \"w\") as jsonFile:\n",
    "        jsonFile.write(json.dumps(arr,indent=4))"
   ]
  },
  {
   "cell_type": "code",
   "execution_count": null,
   "metadata": {},
   "outputs": [],
   "source": []
  }
 ],
 "metadata": {
  "kernelspec": {
   "display_name": "Python 3",
   "language": "python",
   "name": "python3"
  },
  "language_info": {
   "codemirror_mode": {
    "name": "ipython",
    "version": 3
   },
   "file_extension": ".py",
   "mimetype": "text/x-python",
   "name": "python",
   "nbconvert_exporter": "python",
   "pygments_lexer": "ipython3",
   "version": "3.6.4"
  }
 },
 "nbformat": 4,
 "nbformat_minor": 2
}
