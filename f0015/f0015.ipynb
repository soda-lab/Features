{
 "cells": [
  {
   "cell_type": "markdown",
   "metadata": {},
   "source": [
    "# GeoName"
   ]
  },
  {
   "cell_type": "markdown",
   "metadata": {},
   "source": [
    "## Import Libraries"
   ]
  },
  {
   "cell_type": "code",
   "execution_count": null,
   "metadata": {},
   "outputs": [],
   "source": [
    "import pandas\n",
    "from fuzzywuzzy import process\n",
    "from fuzzywuzzy import fuzz\n",
    "import unidecode\n",
    "import warnings\n",
    "warnings.filterwarnings(\"ignore\", category=DeprecationWarning)\n",
    "warnings.filterwarnings(\"ignore\", category=ResourceWarning)\n",
    "warnings.filterwarnings(\"ignore\", category=PendingDeprecationWarning)"
   ]
  },
  {
   "cell_type": "markdown",
   "metadata": {},
   "source": [
    "## Read Config File"
   ]
  },
  {
   "cell_type": "code",
   "execution_count": null,
   "metadata": {},
   "outputs": [],
   "source": [
    "import configparser\n",
    "config = configparser.ConfigParser()\n",
    "config.read('config.ini')\n",
    "flag = config['DEFAULT']['Flag']\n",
    "input_file = config['DEFAULT']['Input-File']\n",
    "ratio_value = config['DEFAULT']['Ratio-Value']\n",
    "column_number = config['DEFAULT']['Column-Number']\n",
    "output_file = config['DEFAULT']['Output-File']\n",
    "world_cities_file = config['DEFAULT']['World-Cities-File']\n",
    "world_states_file = config['DEFAULT']['World-States-File']\n",
    "world_countries_file = config['DEFAULT']['World-Countries-File']\n",
    "au_cities_file = config['DEFAULT']['AU-Cities-File']\n",
    "au_states_file = config['DEFAULT']['AU-States-File']\n",
    "au_countries_file = config['DEFAULT']['AU-Countries-File']"
   ]
  },
  {
   "cell_type": "markdown",
   "metadata": {},
   "source": [
    "## Supporting Functions"
   ]
  },
  {
   "cell_type": "code",
   "execution_count": null,
   "metadata": {},
   "outputs": [],
   "source": [
    "def read_city_file(city_file):\n",
    "    cities = pandas.read_csv(city_file, header=0, encoding=\"UTF-8\")\n",
    "    city_list = cities[\"city\"].tolist()\n",
    "    city_state_list = cities[\"state\"].tolist()\n",
    "    city_country_list = cities[\"country\"].tolist()\n",
    "\n",
    "    city_list = [unidecode.unidecode(x) for x in city_list]\n",
    "    city_gid_list = cities[\"geonameid\"].tolist()\n",
    "    \n",
    "    return city_list,city_state_list,city_country_list,city_gid_list"
   ]
  },
  {
   "cell_type": "code",
   "execution_count": null,
   "metadata": {},
   "outputs": [],
   "source": [
    "def read_state_file(state_file):\n",
    "    states = pandas.read_csv(state_file, header=0, encoding=\"UTF-8\")\n",
    "    state_list = states[\"state\"].tolist()\n",
    "    state_country_list = states[\"country\"].tolist()\n",
    "\n",
    "    state_list = [unidecode.unidecode(str(x)) for x in state_list]\n",
    "    state_gid_list = states[\"geonameid\"].tolist()\n",
    "    \n",
    "    return state_list,state_country_list,state_gid_list"
   ]
  },
  {
   "cell_type": "code",
   "execution_count": null,
   "metadata": {},
   "outputs": [],
   "source": [
    "def read_country_file(country_file):\n",
    "    countries = pandas.read_csv(country_file, header=0, encoding=\"UTF-8\")\n",
    "    country_list = countries[\"country\"].tolist()\n",
    "\n",
    "    country_list = [unidecode.unidecode(x) for x in country_list]\n",
    "    country_gid_list = countries[\"geonameid\"].tolist()\n",
    "    \n",
    "    return country_list,country_gid_list"
   ]
  },
  {
   "cell_type": "code",
   "execution_count": null,
   "metadata": {},
   "outputs": [],
   "source": [
    "# write csv file\n",
    "def write_csv(output_file,header,user_location,city,state,country,geonameid): \n",
    "    with open(output_file, 'a') as f:\n",
    "        if header == 0:\n",
    "            f.write(\"user_location,geoname_city,geoname_state,geoname_country,geoname_id\" + \"\\n\")\n",
    "        \n",
    "        f.write('\"{}\",\"{}\",\"{}\",\"{}\",\"{}\"'.format(user_location,city,state, country,geonameid))\n",
    "        f.write(\"\\n\")"
   ]
  },
  {
   "cell_type": "code",
   "execution_count": null,
   "metadata": {},
   "outputs": [],
   "source": [
    "def get_max_result(i,city_list,state_list,country_list):\n",
    "    result_list = []\n",
    "    \n",
    "    # delete non-ASCII Characters\n",
    "    uni_i = unidecode.unidecode(i)\n",
    "    \n",
    "    # calculate ratio\n",
    "    ci_result = process.extractOne(uni_i,city_list,scorer=fuzz.token_set_ratio)\n",
    "    st_result = process.extractOne(uni_i,state_list,scorer=fuzz.token_set_ratio)\n",
    "    co_result = process.extractOne(uni_i,country_list,scorer=fuzz.token_set_ratio)\n",
    "\n",
    "    result_list.append(ci_result)\n",
    "    result_list.append(st_result)\n",
    "    result_list.append(co_result)\n",
    "\n",
    "    # choose the result with highest ratio\n",
    "    max_result = max(result_list, key=lambda x:x[1])\n",
    "    \n",
    "    return max_result,ci_result,st_result,co_result"
   ]
  },
  {
   "cell_type": "code",
   "execution_count": null,
   "metadata": {},
   "outputs": [],
   "source": [
    "def get_geo_info(user_location,city_list,city_state_list,city_country_list,city_gid_list,\\\n",
    "                 state_list,state_country_list,state_gid_list,country_list,country_gid_list,ratio_value):\n",
    "    header = 0\n",
    "    for i in user_location:\n",
    "        city = state = country = geonameid = \"\"\n",
    "\n",
    "        max_result,ci_result,st_result,co_result = get_max_result(i,city_list,state_list,country_list)\n",
    "\n",
    "        # match relevant geoname information\n",
    "        if max_result[1] >= int(ratio_value):\n",
    "            if max_result == ci_result:  \n",
    "                city = ci_result[0]\n",
    "                index = city_list.index(city)\n",
    "                state = city_state_list[index]\n",
    "                country = city_country_list[index]\n",
    "                geonameid = city_gid_list[index]\n",
    "\n",
    "            elif max_result == st_result:\n",
    "                state = st_result[0]\n",
    "                index = state_list.index(state)\n",
    "                country = state_country_list[index]\n",
    "                geonameid = state_gid_list[index]\n",
    "\n",
    "            elif max_result == co_result:\n",
    "                country = co_result[0]\n",
    "                index = country_list.index(country)\n",
    "                geonameid = country_gid_list[index]\n",
    "\n",
    "        write_csv(output_file,header,i,city,state,country,geonameid)\n",
    "        header = 1"
   ]
  },
  {
   "cell_type": "markdown",
   "metadata": {},
   "source": [
    "## Read \"world\" CSV Files"
   ]
  },
  {
   "cell_type": "code",
   "execution_count": null,
   "metadata": {},
   "outputs": [],
   "source": [
    "# read world-cities\n",
    "world_city_list,world_city_state_list,world_city_country_list,world_city_gid_list = read_city_file(world_cities_file)\n",
    "\n",
    "# read world-states\n",
    "world_state_list,world_state_country_list,world_state_gid_list = read_state_file(world_states_file)\n",
    "\n",
    "# read world-countries\n",
    "world_country_list,world_country_gid_list = read_country_file(world_countries_file)"
   ]
  },
  {
   "cell_type": "markdown",
   "metadata": {},
   "source": [
    "## Read \"Australia\" CSV Files"
   ]
  },
  {
   "cell_type": "code",
   "execution_count": null,
   "metadata": {},
   "outputs": [],
   "source": [
    "# read au-cities\n",
    "au_city_list,au_city_state_list,au_city_country_list,au_city_gid_list = read_city_file(au_cities_file)\n",
    "\n",
    "# read au-states\n",
    "au_state_list,au_state_country_list,au_state_gid_list = read_state_file(au_states_file)\n",
    "\n",
    "# read au-country\n",
    "au_country_list,au_country_gid_list = read_country_file(au_countries_file)"
   ]
  },
  {
   "cell_type": "markdown",
   "metadata": {},
   "source": [
    "## Read Collection Data"
   ]
  },
  {
   "cell_type": "code",
   "execution_count": null,
   "metadata": {},
   "outputs": [],
   "source": [
    "data = pandas.read_csv(input_file, encoding=\"UTF-8\")\n",
    "user_location = data.iloc[:,int(column_number)].tolist()"
   ]
  },
  {
   "cell_type": "markdown",
   "metadata": {},
   "source": [
    "## Main Code"
   ]
  },
  {
   "cell_type": "code",
   "execution_count": null,
   "metadata": {},
   "outputs": [],
   "source": [
    "# World\n",
    "if flag == \"1\":\n",
    "    get_geo_info(user_location,world_city_list,world_city_state_list,world_city_country_list,world_city_gid_list,\\\n",
    "                 world_state_list,world_state_country_list,world_state_gid_list,world_country_list,\\\n",
    "                 world_country_gid_list,ratio_value)\n",
    "# Australia\n",
    "elif flag == \"2\":\n",
    "    get_geo_info(user_location,au_city_list,au_city_state_list,au_city_country_list,au_city_gid_list,\\\n",
    "                 au_state_list,au_state_country_list,au_state_gid_list,au_country_list,au_country_gid_list,ratio_value)"
   ]
  },
  {
   "cell_type": "code",
   "execution_count": null,
   "metadata": {},
   "outputs": [],
   "source": []
  }
 ],
 "metadata": {
  "kernelspec": {
   "display_name": "Python 3",
   "language": "python",
   "name": "python3"
  },
  "language_info": {
   "codemirror_mode": {
    "name": "ipython",
    "version": 3
   },
   "file_extension": ".py",
   "mimetype": "text/x-python",
   "name": "python",
   "nbconvert_exporter": "python",
   "pygments_lexer": "ipython3",
   "version": "3.6.4"
  }
 },
 "nbformat": 4,
 "nbformat_minor": 2
}
