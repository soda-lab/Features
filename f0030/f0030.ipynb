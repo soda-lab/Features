{
 "cells": [
  {
   "cell_type": "markdown",
   "metadata": {},
   "source": [
    "# Import Libraries"
   ]
  },
  {
   "cell_type": "code",
   "execution_count": 1,
   "metadata": {},
   "outputs": [],
   "source": [
    "import configparser\n",
    "import pandas as pd\n",
    "import os"
   ]
  },
  {
   "cell_type": "markdown",
   "metadata": {},
   "source": [
    "# Read Config File"
   ]
  },
  {
   "cell_type": "code",
   "execution_count": 2,
   "metadata": {},
   "outputs": [],
   "source": [
    "config = configparser.ConfigParser()\n",
    "config.read('config.ini')\n",
    "input_directory = config['DEFAULT']['Input-Files-Directory']\n",
    "Import_Option_File = config['DEFAULT']['Import-Option-File']\n",
    "population_file = config['DEFAULT']['Population-data']\n",
    "rename_columns_file = config['DEFAULT']['Rename_Columns']\n",
    "aggregate_columns_file = config['DEFAULT']['Aggregate_Columns']\n",
    "output_file = config['DEFAULT']['Output-File']"
   ]
  },
  {
   "cell_type": "markdown",
   "metadata": {},
   "source": [
    "# Read Input Data"
   ]
  },
  {
   "cell_type": "code",
   "execution_count": 3,
   "metadata": {},
   "outputs": [],
   "source": [
    "extracted_collection_dictionary = {}\n",
    "directory = os.listdir(input_directory)\n",
    "census_files = []\n",
    "for file in directory: # read Census files\n",
    "    if \"2016Census\" in file:\n",
    "        census_files.append(file)\n",
    "for file in census_files:\n",
    "    extracted_collection_dictionary[file] = pd.read_csv('{}/{}'.format(input_directory, file), sep=',', encoding='utf-8')\n",
    "pop_df = pd.read_csv('{}/{}.csv'.format(input_directory, population_file), sep=',', encoding='utf-8')\n",
    "name_df = pd.read_csv('{}.txt'.format(rename_columns_file), delimiter = \",\", comment='#')\n",
    "aggregate_df = pd.read_csv('{}.txt'.format(aggregate_columns_file), delimiter = \",\", comment='#')\n",
    "import_option_df = pd.read_csv('{}.txt'.format(Import_Option_File), delimiter = \",\", comment='#')"
   ]
  },
  {
   "cell_type": "markdown",
   "metadata": {},
   "source": [
    "# Scale the counts based on the relevant population"
   ]
  },
  {
   "cell_type": "code",
   "execution_count": 4,
   "metadata": {},
   "outputs": [],
   "source": [
    "def scale_columns(extracted_collection_dictionary, import_option_df, pop_df):\n",
    "    updated_extracted_collection_dictionary = {} # store scaled extracted values\n",
    "    for index, row in import_option_df.iterrows():\n",
    "        for table in extracted_collection_dictionary.keys():\n",
    "            if row['Table Number'] in table:\n",
    "                agg = row['Aggregate']\n",
    "                if agg == 'none': # if Aggregate is none, then no scaling. \n",
    "                    updated_extracted_collection_dictionary[table] = extracted_collection_dictionary[table]   \n",
    "                    continue\n",
    "                else:\n",
    "                    scale_value = row['Aggregate']\n",
    "                # merge variable data with population data, we use merging for matching index\n",
    "                extracted_collection_dictionary[table]['SA1_7DIGITCODE_2016'] = extracted_collection_dictionary[table]['SA1_7DIGITCODE_2016'].astype(int)\n",
    "                merged_df = pd.merge(extracted_collection_dictionary[table], pop_df[['SA1_7DIGITCODE_2016', scale_value]], on='SA1_7DIGITCODE_2016')\n",
    "                # scale count by related population\n",
    "                for c in merged_df.loc[:, merged_df.columns != 'SA1_7DIGITCODE_2016'].columns:\n",
    "                    merged_df[c] = merged_df[c]/merged_df[scale_value]\n",
    "                # remove the related column and update dictionary with scaled DF\n",
    "                merged_df.drop(columns=[scale_value], inplace=True)\n",
    "                updated_extracted_collection_dictionary[table] = merged_df        \n",
    "    return updated_extracted_collection_dictionary"
   ]
  },
  {
   "cell_type": "code",
   "execution_count": 5,
   "metadata": {},
   "outputs": [],
   "source": [
    "\n",
    "scaled_extracted_collection_dictionary = scale_columns(extracted_collection_dictionary, import_option_df, pop_df)"
   ]
  },
  {
   "cell_type": "markdown",
   "metadata": {},
   "source": [
    "# Combine Dataframes"
   ]
  },
  {
   "cell_type": "code",
   "execution_count": 6,
   "metadata": {},
   "outputs": [],
   "source": [
    "def combine_dataframe(updated_extracted_collection_dictionary):\n",
    "    \"\"\" Merge all dataframe on SA1 code \"\"\"\n",
    "    combined_df = pd.DataFrame(columns=['SA1_7DIGITCODE_2016'])\n",
    "    n = 0\n",
    "    for df in updated_extracted_collection_dictionary:\n",
    "        if n == 0:\n",
    "            combined_df = updated_extracted_collection_dictionary[df]\n",
    "        else:\n",
    "            combined_df = pd.merge(combined_df, \n",
    "                                   updated_extracted_collection_dictionary[df],\n",
    "                                  on = 'SA1_7DIGITCODE_2016')\n",
    "        n += 1\n",
    "    return combined_df"
   ]
  },
  {
   "cell_type": "code",
   "execution_count": 7,
   "metadata": {},
   "outputs": [],
   "source": [
    "def remove_null_rows(df):\n",
    "    \"\"\" remove rows where contains a null value \"\"\"\n",
    "    df = df.dropna(how='any')\n",
    "    return df"
   ]
  },
  {
   "cell_type": "code",
   "execution_count": 8,
   "metadata": {},
   "outputs": [],
   "source": [
    "combined_df = combine_dataframe(scaled_extracted_collection_dictionary)\n",
    "combined_df = remove_null_rows(combined_df)"
   ]
  },
  {
   "cell_type": "markdown",
   "metadata": {},
   "source": [
    "# Rename and aggregate Columns"
   ]
  },
  {
   "cell_type": "code",
   "execution_count": 9,
   "metadata": {},
   "outputs": [],
   "source": [
    "def rename_columns(name_df, df):\n",
    "    copied_df = df.copy()\n",
    "    \"\"\" renmae columns \"\"\"\n",
    "    for index, row in name_df.iterrows():\n",
    "        if row['oldname'] in copied_df.columns:\n",
    "            copied_df.rename(columns={row['oldname']:row['newname']}, inplace=True)\n",
    "\n",
    "    return copied_df   "
   ]
  },
  {
   "cell_type": "code",
   "execution_count": 10,
   "metadata": {},
   "outputs": [],
   "source": [
    "def aggregate_columns(aggregate_df, df):\n",
    "    copied_df = df.copy()\n",
    "    for index, row in aggregate_df.iterrows():\n",
    "        total_n = 0\n",
    "        columns = row['columns_to_aggregate']\n",
    "        for col in columns.split(','):\n",
    "            total_n += copied_df[col]\n",
    "            # drop column\n",
    "            copied_df.drop(columns=[col], inplace=True)\n",
    "        copied_df[row['aggregated_column']]  = total_n\n",
    "    return copied_df"
   ]
  },
  {
   "cell_type": "code",
   "execution_count": 11,
   "metadata": {},
   "outputs": [],
   "source": [
    "renamed_df = rename_columns(name_df, combined_df)\n",
    "renamed_and_aggregated_df = aggregate_columns(aggregate_df, renamed_df)\n",
    "\n",
    "# merge with population DF\n",
    "final_df = pd.merge(renamed_and_aggregated_df, pop_df, on='SA1_7DIGITCODE_2016', how='left')"
   ]
  },
  {
   "cell_type": "code",
   "execution_count": 12,
   "metadata": {},
   "outputs": [],
   "source": [
    "# delete useless columns for clustering analysis\n",
    "final_df.drop(columns=['P_ID_NS_Tot' ,'P_Tot_Tot_x', 'P_Tot_Unemp_Tot', 'P_Tot_Occu_ID_NS', 'T_SOLSE_PinE_NS_T', 'T_SOLSE_T_T','P_Tot_Tot_y', 'Ancestry_NS_Tot_Resp', 'Tot_P_Tot_Resp'], inplace=True)\n",
    "final_df = final_df.sort_values(by=['SA1_7DIGITCODE_2016'], inplace=False) # sort by SA1 code"
   ]
  },
  {
   "cell_type": "markdown",
   "metadata": {},
   "source": [
    "# Save Result"
   ]
  },
  {
   "cell_type": "code",
   "execution_count": 13,
   "metadata": {},
   "outputs": [
    {
     "data": {
      "text/plain": [
       "(55680, 128)"
      ]
     },
     "execution_count": 13,
     "metadata": {},
     "output_type": "execute_result"
    }
   ],
   "source": [
    "final_df.to_csv('{}.csv'.format(output_file), sep=',', encoding='utf-8', index=False)\n",
    "final_df.shape"
   ]
  }
 ],
 "metadata": {
  "kernelspec": {
   "display_name": "Python 3",
   "language": "python",
   "name": "python3"
  },
  "language_info": {
   "codemirror_mode": {
    "name": "ipython",
    "version": 3
   },
   "file_extension": ".py",
   "mimetype": "text/x-python",
   "name": "python",
   "nbconvert_exporter": "python",
   "pygments_lexer": "ipython3",
   "version": "3.8.3"
  },
  "toc": {
   "base_numbering": 1,
   "nav_menu": {},
   "number_sections": true,
   "sideBar": true,
   "skip_h1_title": false,
   "title_cell": "Table of Contents",
   "title_sidebar": "Contents",
   "toc_cell": false,
   "toc_position": {},
   "toc_section_display": true,
   "toc_window_display": true
  }
 },
 "nbformat": 4,
 "nbformat_minor": 4
}
